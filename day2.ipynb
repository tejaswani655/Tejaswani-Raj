{
 "cells": [
  {
   "cell_type": "code",
   "execution_count": null,
   "id": "fe856443-5732-4db1-8bba-49ff14236dbe",
   "metadata": {},
   "outputs": [],
   "source": [
    "FUNCTIONAL PROGRAMMING"
   ]
  },
  {
   "cell_type": "code",
   "execution_count": 1,
   "id": "357f1659-858e-4f7e-856f-4015f01e65b6",
   "metadata": {},
   "outputs": [
    {
     "ename": "SyntaxError",
     "evalue": "expected ':' (445542409.py, line 1)",
     "output_type": "error",
     "traceback": [
      "\u001b[1;36m  Cell \u001b[1;32mIn[1], line 1\u001b[1;36m\u001b[0m\n\u001b[1;33m    def check_palindrome(word)\u001b[0m\n\u001b[1;37m                              ^\u001b[0m\n\u001b[1;31mSyntaxError\u001b[0m\u001b[1;31m:\u001b[0m expected ':'\n"
     ]
    }
   ],
   "source": [
    "def check_palindrome(word)\n",
    "    return(word)\n",
    "    "
   ]
  },
  {
   "cell_type": "code",
   "execution_count": 2,
   "id": "d65b2aaa-c75f-4b3b-ab8a-4d9ccfda6ba9",
   "metadata": {},
   "outputs": [
    {
     "ename": "NameError",
     "evalue": "name 'check_palindrome' is not defined",
     "output_type": "error",
     "traceback": [
      "\u001b[1;31m---------------------------------------------------------------------------\u001b[0m",
      "\u001b[1;31mNameError\u001b[0m                                 Traceback (most recent call last)",
      "Cell \u001b[1;32mIn[2], line 1\u001b[0m\n\u001b[1;32m----> 1\u001b[0m check_palindrome(\u001b[38;5;124m'\u001b[39m\u001b[38;5;124majay\u001b[39m\u001b[38;5;124m'\u001b[39m)\n\u001b[0;32m      2\u001b[0m a \u001b[38;5;241m=\u001b[39m \u001b[38;5;124m'\u001b[39m\u001b[38;5;124mmaam\u001b[39m\u001b[38;5;124m'\u001b[39m\n\u001b[0;32m      3\u001b[0m a[::\u001b[38;5;241m-\u001b[39m\u001b[38;5;241m1\u001b[39m]\n",
      "\u001b[1;31mNameError\u001b[0m: name 'check_palindrome' is not defined"
     ]
    }
   ],
   "source": [
    "check_palindrome('ajay')\n",
    "a = 'maam'\n",
    "a[::-1]\n"
   ]
  },
  {
   "cell_type": "code",
   "execution_count": 3,
   "id": "9b149177-f5ef-4e07-8dc8-84825dc76bba",
   "metadata": {},
   "outputs": [
    {
     "name": "stdout",
     "output_type": "stream",
     "text": [
      "nitin is a Palindrome\n"
     ]
    }
   ],
   "source": [
    "a = 'nitin'\n",
    "\n",
    "if a == a[::-1]:\n",
    "  print(f'{a} is a Palindrome')\n",
    "else:\n",
    "  print(f'{a} is Not a Palindrome')\n"
   ]
  },
  {
   "cell_type": "code",
   "execution_count": 4,
   "id": "8ab17ac1-ab1f-49c6-b001-8fadce90f748",
   "metadata": {},
   "outputs": [],
   "source": [
    "def check_palindrome(word:str):\n",
    "  if type(word) == str:\n",
    "    word = word.upper()\n",
    "    if word == word[::-1]:\n",
    "      return 'Palindrome'\n",
    "    else:\n",
    "      return 'Not a Plaindrome'\n",
    "  else:\n",
    "    return 'Invalid Data Type'"
   ]
  },
  {
   "cell_type": "code",
   "execution_count": 5,
   "id": "389501cd-342e-4220-865e-ae9be398f831",
   "metadata": {},
   "outputs": [
    {
     "data": {
      "text/plain": [
       "'Not a Plaindrome'"
      ]
     },
     "execution_count": 5,
     "metadata": {},
     "output_type": "execute_result"
    }
   ],
   "source": [
    "check_palindrome('harry')"
   ]
  },
  {
   "cell_type": "code",
   "execution_count": 13,
   "id": "5e2ff716-6889-4d46-92f4-bd713f3f878a",
   "metadata": {},
   "outputs": [],
   "source": [
    "def give_fibo(n):\n",
    "    fibo = [0,1]\n",
    "    for i in range(n-2):\n",
    "        last_num = fibo[-1]\n",
    "        second_last_num = fibo[-2]\n",
    "        next_num = last_num + second_last_num\n",
    "        fibo.append(next_num)\n",
    "    return fibo    "
   ]
  },
  {
   "cell_type": "code",
   "execution_count": 14,
   "id": "f952bb5c-cce8-43ce-98b8-7b439e6c1358",
   "metadata": {},
   "outputs": [
    {
     "name": "stdout",
     "output_type": "stream",
     "text": [
      "[0, 1, 1, 2, 3, 5, 8, 13, 21, 34, 55, 89, 144, 233, 377, 610, 987, 1597, 2584, 4181]\n"
     ]
    }
   ],
   "source": [
    "print(give_fibo(20))"
   ]
  },
  {
   "cell_type": "code",
   "execution_count": 15,
   "id": "aa587f49-b157-43c6-938a-89d3ed90c175",
   "metadata": {},
   "outputs": [
    {
     "data": {
      "text/plain": [
       "[2, 3, 4, 5, 6]"
      ]
     },
     "execution_count": 15,
     "metadata": {},
     "output_type": "execute_result"
    }
   ],
   "source": [
    "list(range(2,7))"
   ]
  },
  {
   "cell_type": "code",
   "execution_count": 17,
   "id": "1d03ec1c-05f5-4b4e-85f0-50eb2908124d",
   "metadata": {},
   "outputs": [],
   "source": [
    "def check_prime(number):\n",
    "    for i in range (2,number):\n",
    "        if number%1 == 0:\n",
    "            return 'not a prin no.'\n",
    "            break\n",
    "    else:\n",
    "        return 'prime number'\n",
    "        \n",
    "        "
   ]
  },
  {
   "cell_type": "code",
   "execution_count": 18,
   "id": "714389ce-6e4a-4bcc-b181-49a070ba0c2b",
   "metadata": {},
   "outputs": [
    {
     "data": {
      "text/plain": [
       "'not a prin no.'"
      ]
     },
     "execution_count": 18,
     "metadata": {},
     "output_type": "execute_result"
    }
   ],
   "source": [
    "check_prime(10151)"
   ]
  },
  {
   "cell_type": "code",
   "execution_count": 21,
   "id": "80872cb8-574c-45f0-8956-13fad8f715d8",
   "metadata": {},
   "outputs": [
    {
     "name": "stdout",
     "output_type": "stream",
     "text": [
      "HelloHelloHelloHelloHelloHelloHelloHelloHello\n"
     ]
    }
   ],
   "source": [
    "print('Hello'*int(9.0))\n"
   ]
  },
  {
   "cell_type": "code",
   "execution_count": 4,
   "id": "a7cc4289-14c9-4490-8f2c-c665ef111255",
   "metadata": {},
   "outputs": [
    {
     "name": "stdout",
     "output_type": "stream",
     "text": [
      "      * \n",
      "     * * \n",
      "    * * * \n",
      "   * * * * \n",
      "  * * * * * \n",
      " * * * * * * \n",
      "* * * * * * * \n"
     ]
    }
   ],
   "source": [
    "n = 7\n",
    "for i in range(1,n+1,):\n",
    "    \n",
    "    print(' '*(n-i) + i *'* ')"
   ]
  },
  {
   "cell_type": "code",
   "execution_count": 30,
   "id": "436913fc-2b27-4c82-8f12-5a815f55389a",
   "metadata": {},
   "outputs": [],
   "source": [
    "def star(n = 5, typ = 'left', shape = '*'):\n",
    "    if typ == 'left':\n",
    "        space =''\n",
    "\n",
    "    elif typ == 'right':\n",
    "        space ='  '\n",
    "        \n",
    "    elif typ == 'mid':\n",
    "        space =' '\n",
    "        \n",
    "    for i in range(1,n+1):\n",
    "      print(space*(n-i) + i*f'{shape} ')\n",
    "    "
   ]
  },
  {
   "cell_type": "code",
   "execution_count": 32,
   "id": "7844d84c-c4ed-447a-a593-ebe9b72df560",
   "metadata": {},
   "outputs": [
    {
     "name": "stdout",
     "output_type": "stream",
     "text": [
      "    * \n",
      "   * * \n",
      "  * * * \n",
      " * * * * \n",
      "* * * * * \n"
     ]
    }
   ],
   "source": [
    "star(5,'mid','*')"
   ]
  },
  {
   "cell_type": "code",
   "execution_count": 6,
   "id": "b32b7a86-2b88-49fa-bac3-401a29aaa181",
   "metadata": {},
   "outputs": [],
   "source": [
    "def sum_of_n_natural_nos(n):\n",
    "    result = 0\n",
    "    for i in range(1,n+1):\n",
    "        result += i\n",
    "    return result"
   ]
  },
  {
   "cell_type": "code",
   "execution_count": 8,
   "id": "0721eb39-951f-4807-9746-d9c3c711027f",
   "metadata": {},
   "outputs": [
    {
     "data": {
      "text/plain": [
       "5050"
      ]
     },
     "execution_count": 8,
     "metadata": {},
     "output_type": "execute_result"
    }
   ],
   "source": [
    "sum_of_n_natural_nos(100)"
   ]
  },
  {
   "cell_type": "code",
   "execution_count": 7,
   "id": "ddffc4d7-dabe-4c33-b7f1-b9d7f71f18c3",
   "metadata": {},
   "outputs": [],
   "source": [
    "def factorial(n):\n",
    "    result = 1\n",
    "    for i in range(1,n+1):\n",
    "        result *= i\n",
    "    return result "
   ]
  },
  {
   "cell_type": "code",
   "execution_count": 11,
   "id": "a8453999-f2e3-4fdc-be20-ad81ff21757b",
   "metadata": {},
   "outputs": [
    {
     "data": {
      "text/plain": [
       "720"
      ]
     },
     "execution_count": 11,
     "metadata": {},
     "output_type": "execute_result"
    }
   ],
   "source": [
    "factorial(6)"
   ]
  },
  {
   "cell_type": "code",
   "execution_count": 15,
   "id": "7867c0ee-cbfe-4573-8b47-711f68a2842e",
   "metadata": {},
   "outputs": [],
   "source": [
    "def total_sales(*args):\n",
    "    result = 0\n",
    "    for i in args:\n",
    "        result += i\n",
    "    return result "
   ]
  },
  {
   "cell_type": "code",
   "execution_count": 16,
   "id": "704d2016-589b-4648-abaf-bbe0688d02f2",
   "metadata": {},
   "outputs": [
    {
     "data": {
      "text/plain": [
       "909"
      ]
     },
     "execution_count": 16,
     "metadata": {},
     "output_type": "execute_result"
    }
   ],
   "source": [
    "total_sales(1,4,5,6,3,890)"
   ]
  },
  {
   "cell_type": "code",
   "execution_count": 24,
   "id": "aae40ed5-2ff6-4171-899a-607c14e1cc75",
   "metadata": {},
   "outputs": [],
   "source": [
    "sales = [45,34,656,3456,5567,445,980]"
   ]
  },
  {
   "cell_type": "code",
   "execution_count": 25,
   "id": "06af5969-bbf9-474a-9727-aa636e528263",
   "metadata": {},
   "outputs": [
    {
     "name": "stdout",
     "output_type": "stream",
     "text": [
      "34\n"
     ]
    }
   ],
   "source": [
    "min_element = sales[0]\n",
    "\n",
    "for i in sales[1:]:\n",
    "  if i < min_element:\n",
    "    min_element = i\n",
    "print(min_element)    "
   ]
  },
  {
   "cell_type": "code",
   "execution_count": 27,
   "id": "231e3e74-6cd8-4b4b-8c7a-5dd3037ed225",
   "metadata": {},
   "outputs": [],
   "source": [
    "def max_sales(*sales):\n",
    "    max_element = sales[0]\n",
    "\n",
    "    for i in sales[1:]:\n",
    "      if i > max_element:\n",
    "        max_element = i\n",
    "    return max_element"
   ]
  },
  {
   "cell_type": "code",
   "execution_count": 28,
   "id": "d3207f79-9ff1-466c-8993-f205e8c5617b",
   "metadata": {},
   "outputs": [
    {
     "data": {
      "text/plain": [
       "5567"
      ]
     },
     "execution_count": 28,
     "metadata": {},
     "output_type": "execute_result"
    }
   ],
   "source": [
    "max_sales(45,34,656,3456,5567,445,980)"
   ]
  },
  {
   "cell_type": "code",
   "execution_count": 23,
   "id": "96f5fffa-0ba8-4518-ac75-063decfd7774",
   "metadata": {},
   "outputs": [],
   "source": [
    "\n",
    "def min_sales(sales):\n",
    "    min_element = sales[0]\n",
    "    for i in sales[1:]:\n",
    "      if i < min_element:\n",
    "        min_element = i\n",
    "    return min_element  \n",
    "    "
   ]
  },
  {
   "cell_type": "code",
   "execution_count": 24,
   "id": "da6ca482-d25f-461f-bbf0-1b88651c4e3d",
   "metadata": {},
   "outputs": [
    {
     "data": {
      "text/plain": [
       "34"
      ]
     },
     "execution_count": 24,
     "metadata": {},
     "output_type": "execute_result"
    }
   ],
   "source": [
    "min_sales([45,34,656,3456,5567,445,980])"
   ]
  },
  {
   "cell_type": "code",
   "execution_count": null,
   "id": "2d6b379c-5683-4cb9-bd9a-78e2bf2c76fd",
   "metadata": {},
   "outputs": [],
   "source": [
    "LIST COMPRIHENTION"
   ]
  },
  {
   "cell_type": "code",
   "execution_count": 61,
   "id": "ac920624-6240-476c-a2dd-f1988b647732",
   "metadata": {},
   "outputs": [],
   "source": [
    "company = ['starlink','uber','ola','reliance','tata']\n",
    "\n",
    "def add_hash(company):\n",
    "    result = []\n",
    "    for i in company:\n",
    "        result.append('#'+i.upper())\n",
    "    return result"
   ]
  },
  {
   "cell_type": "code",
   "execution_count": 62,
   "id": "a5d9632b-f31d-4f44-8ecb-d413d486bd6a",
   "metadata": {},
   "outputs": [
    {
     "data": {
      "text/plain": [
       "['#STARLINK', '#UBER', '#OLA', '#RELIANCE', '#TATA']"
      ]
     },
     "execution_count": 62,
     "metadata": {},
     "output_type": "execute_result"
    }
   ],
   "source": [
    "add_hash(company)\n"
   ]
  },
  {
   "cell_type": "code",
   "execution_count": 78,
   "id": "94afcc92-983a-4015-98ba-886c1ac9c5ab",
   "metadata": {},
   "outputs": [],
   "source": [
    "def store_rec(name,age,roll_no,Class):\n",
    "    data = {'Name': name,'Age':age,'Roll_no':roll_no,'Class':Class}\n",
    "    import pandas as pd\n",
    "    df = pd.DataFrame(data,index = [1])\n",
    "    return df"
   ]
  },
  {
   "cell_type": "code",
   "execution_count": 80,
   "id": "fb217329-40d1-489a-b43d-a2900f2b832a",
   "metadata": {},
   "outputs": [
    {
     "data": {
      "text/html": [
       "<div>\n",
       "<style scoped>\n",
       "    .dataframe tbody tr th:only-of-type {\n",
       "        vertical-align: middle;\n",
       "    }\n",
       "\n",
       "    .dataframe tbody tr th {\n",
       "        vertical-align: top;\n",
       "    }\n",
       "\n",
       "    .dataframe thead th {\n",
       "        text-align: right;\n",
       "    }\n",
       "</style>\n",
       "<table border=\"1\" class=\"dataframe\">\n",
       "  <thead>\n",
       "    <tr style=\"text-align: right;\">\n",
       "      <th></th>\n",
       "      <th>Name</th>\n",
       "      <th>Age</th>\n",
       "      <th>Roll_no</th>\n",
       "      <th>Class</th>\n",
       "    </tr>\n",
       "  </thead>\n",
       "  <tbody>\n",
       "    <tr>\n",
       "      <th>1</th>\n",
       "      <td>anuman</td>\n",
       "      <td>20</td>\n",
       "      <td>78</td>\n",
       "      <td>15</td>\n",
       "    </tr>\n",
       "  </tbody>\n",
       "</table>\n",
       "</div>"
      ],
      "text/plain": [
       "     Name  Age  Roll_no  Class\n",
       "1  anuman   20       78     15"
      ]
     },
     "metadata": {},
     "output_type": "display_data"
    },
    {
     "data": {
      "text/html": [
       "<div>\n",
       "<style scoped>\n",
       "    .dataframe tbody tr th:only-of-type {\n",
       "        vertical-align: middle;\n",
       "    }\n",
       "\n",
       "    .dataframe tbody tr th {\n",
       "        vertical-align: top;\n",
       "    }\n",
       "\n",
       "    .dataframe thead th {\n",
       "        text-align: right;\n",
       "    }\n",
       "</style>\n",
       "<table border=\"1\" class=\"dataframe\">\n",
       "  <thead>\n",
       "    <tr style=\"text-align: right;\">\n",
       "      <th></th>\n",
       "      <th>Name</th>\n",
       "      <th>Age</th>\n",
       "      <th>Roll_no</th>\n",
       "      <th>Class</th>\n",
       "    </tr>\n",
       "  </thead>\n",
       "  <tbody>\n",
       "    <tr>\n",
       "      <th>1</th>\n",
       "      <td>anupam</td>\n",
       "      <td>20</td>\n",
       "      <td>109</td>\n",
       "      <td>15</td>\n",
       "    </tr>\n",
       "  </tbody>\n",
       "</table>\n",
       "</div>"
      ],
      "text/plain": [
       "     Name  Age  Roll_no  Class\n",
       "1  anupam   20      109     15"
      ]
     },
     "metadata": {},
     "output_type": "display_data"
    },
    {
     "data": {
      "text/html": [
       "<div>\n",
       "<style scoped>\n",
       "    .dataframe tbody tr th:only-of-type {\n",
       "        vertical-align: middle;\n",
       "    }\n",
       "\n",
       "    .dataframe tbody tr th {\n",
       "        vertical-align: top;\n",
       "    }\n",
       "\n",
       "    .dataframe thead th {\n",
       "        text-align: right;\n",
       "    }\n",
       "</style>\n",
       "<table border=\"1\" class=\"dataframe\">\n",
       "  <thead>\n",
       "    <tr style=\"text-align: right;\">\n",
       "      <th></th>\n",
       "      <th>Name</th>\n",
       "      <th>Age</th>\n",
       "      <th>Roll_no</th>\n",
       "      <th>Class</th>\n",
       "    </tr>\n",
       "  </thead>\n",
       "  <tbody>\n",
       "    <tr>\n",
       "      <th>1</th>\n",
       "      <td>annu</td>\n",
       "      <td>21</td>\n",
       "      <td>56</td>\n",
       "      <td>17</td>\n",
       "    </tr>\n",
       "  </tbody>\n",
       "</table>\n",
       "</div>"
      ],
      "text/plain": [
       "   Name  Age  Roll_no  Class\n",
       "1  annu   21       56     17"
      ]
     },
     "metadata": {},
     "output_type": "display_data"
    }
   ],
   "source": [
    "display(store_rec('anuman',20,78,15))\n",
    "display(store_rec('anupam',20,109,15))\n",
    "display(store_rec('annu',21,56,17))"
   ]
  },
  {
   "cell_type": "code",
   "execution_count": null,
   "id": "72e3b780-3341-4617-a8f0-9f571ea774c6",
   "metadata": {},
   "outputs": [],
   "source": [
    "def stud_rec(**kwargs)\n",
    "    result = pd. dtaframe(kwargs)\n",
    "    return result"
   ]
  },
  {
   "cell_type": "code",
   "execution_count": 1,
   "id": "616c4b80-223d-43fa-aa49-47b1203375b2",
   "metadata": {},
   "outputs": [],
   "source": [
    "def students_records(**kwargs):\n",
    "    # print(kwargs)\n",
    "    # try exception\n",
    "    import pandas as pd\n",
    "    try:\n",
    "        result = pd.DataFrame(kwargs)\n",
    "        return result\n",
    "    except:\n",
    "        result = pd.DataFrame(kwargs,index = [1])\n",
    "        return result"
   ]
  },
  {
   "cell_type": "code",
   "execution_count": 2,
   "id": "fdf5f176-4031-4aa2-884c-bb4c4febe434",
   "metadata": {},
   "outputs": [
    {
     "data": {
      "text/html": [
       "<div>\n",
       "<style scoped>\n",
       "    .dataframe tbody tr th:only-of-type {\n",
       "        vertical-align: middle;\n",
       "    }\n",
       "\n",
       "    .dataframe tbody tr th {\n",
       "        vertical-align: top;\n",
       "    }\n",
       "\n",
       "    .dataframe thead th {\n",
       "        text-align: right;\n",
       "    }\n",
       "</style>\n",
       "<table border=\"1\" class=\"dataframe\">\n",
       "  <thead>\n",
       "    <tr style=\"text-align: right;\">\n",
       "      <th></th>\n",
       "      <th>Name</th>\n",
       "      <th>Age</th>\n",
       "      <th>Roll_No</th>\n",
       "      <th>Address</th>\n",
       "    </tr>\n",
       "  </thead>\n",
       "  <tbody>\n",
       "    <tr>\n",
       "      <th>0</th>\n",
       "      <td>Komal</td>\n",
       "      <td>23</td>\n",
       "      <td>23</td>\n",
       "      <td>Noida</td>\n",
       "    </tr>\n",
       "    <tr>\n",
       "      <th>1</th>\n",
       "      <td>Mohan</td>\n",
       "      <td>45</td>\n",
       "      <td>32</td>\n",
       "      <td>Delhi</td>\n",
       "    </tr>\n",
       "    <tr>\n",
       "      <th>2</th>\n",
       "      <td>Ajay</td>\n",
       "      <td>56</td>\n",
       "      <td>67</td>\n",
       "      <td>Greater Noida</td>\n",
       "    </tr>\n",
       "  </tbody>\n",
       "</table>\n",
       "</div>"
      ],
      "text/plain": [
       "    Name  Age  Roll_No        Address\n",
       "0  Komal   23       23          Noida\n",
       "1  Mohan   45       32          Delhi\n",
       "2   Ajay   56       67  Greater Noida"
      ]
     },
     "execution_count": 2,
     "metadata": {},
     "output_type": "execute_result"
    }
   ],
   "source": [
    "students_records(Name = ['Komal','Mohan','Ajay'],\n",
    "                 Age = [23,45,56],\n",
    "                 Roll_No = [23,32,67],\n",
    "                 Address = ['Noida','Delhi','Greater Noida'])"
   ]
  }
 ],
 "metadata": {
  "kernelspec": {
   "display_name": "Python [conda env:base] *",
   "language": "python",
   "name": "conda-base-py"
  },
  "language_info": {
   "codemirror_mode": {
    "name": "ipython",
    "version": 3
   },
   "file_extension": ".py",
   "mimetype": "text/x-python",
   "name": "python",
   "nbconvert_exporter": "python",
   "pygments_lexer": "ipython3",
   "version": "3.13.5"
  }
 },
 "nbformat": 4,
 "nbformat_minor": 5
}
