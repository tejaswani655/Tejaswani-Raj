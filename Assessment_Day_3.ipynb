{
 "cells": [
  {
   "cell_type": "code",
   "execution_count": 1,
   "id": "fbfab2e2",
   "metadata": {},
   "outputs": [],
   "source": [
    "# Assessment Day 3"
   ]
  },
  {
   "cell_type": "code",
   "execution_count": 3,
   "id": "f51298aa",
   "metadata": {},
   "outputs": [
    {
     "name": "stdout",
     "output_type": "stream",
     "text": [
      "Dang\n"
     ]
    }
   ],
   "source": [
    "# Math helper Module\n",
    "\n",
    "import Mathhelper as mh\n",
    "print('Dang')"
   ]
  },
  {
   "cell_type": "code",
   "execution_count": 5,
   "id": "9ab7097b",
   "metadata": {},
   "outputs": [],
   "source": [
    "# Sale Calculater\n",
    "\n",
    "def safe_calculator():\n",
    "    try:\n",
    "        num1 = float(input(\"Enter first number: \"))\n",
    "        operator = input(\"Enter operator (+, -, *, /): \")\n",
    "        num2 = float(input(\"Enter second number: \"))\n",
    "\n",
    "        if operator == '+':\n",
    "            print(\"Result:\", num1 + num2)\n",
    "        elif operator == '-':\n",
    "            print(\"Result:\", num1 - num2)\n",
    "        elif operator == '*':\n",
    "            print(\"Result:\", num1 * num2)\n",
    "        elif operator == '/':\n",
    "            print(\"Result:\", num1 / num2)\n",
    "        else:\n",
    "            print(\"Invalid operator.\")\n",
    "\n",
    "    except ZeroDivisionError:\n",
    "        print(\"Error: Division by zero is not allowed.\")\n",
    "    except ValueError:\n",
    "        print(\"Error: Invalid input. Please enter numbers only.\")\n"
   ]
  },
  {
   "cell_type": "code",
   "execution_count": 6,
   "id": "d9185e63",
   "metadata": {},
   "outputs": [
    {
     "name": "stdout",
     "output_type": "stream",
     "text": [
      "Enter first number: 45\n",
      "Enter operator (+, -, *, /): -\n",
      "Enter second number: 56\n",
      "Result: -11.0\n"
     ]
    }
   ],
   "source": [
    "safe_calculator()"
   ]
  },
  {
   "cell_type": "code",
   "execution_count": 9,
   "id": "cad5546a",
   "metadata": {},
   "outputs": [],
   "source": [
    "# File Reader\n",
    "\n",
    "def read_py_file():\n",
    "    file_name = input(\"Enter the name of the .py file: \")\n",
    "    try:\n",
    "        with open(file_name, 'r') as file:\n",
    "            for i in range(5):\n",
    "                line = file.readline()\n",
    "                if not line:\n",
    "                    break\n",
    "                print(f\"Line {i+1}: {line.strip()}\")\n",
    "    except FileNotFoundError:\n",
    "        print(\"Error: File not found.\")\n"
   ]
  },
  {
   "cell_type": "code",
   "execution_count": 11,
   "id": "0c825c58",
   "metadata": {},
   "outputs": [
    {
     "name": "stdout",
     "output_type": "stream",
     "text": [
      "Enter the name of the .py file: Mathhelper\n",
      "Error: File not found.\n"
     ]
    }
   ],
   "source": [
    "read_py_file()"
   ]
  },
  {
   "cell_type": "code",
   "execution_count": 14,
   "id": "baea4aeb",
   "metadata": {},
   "outputs": [],
   "source": [
    "# Simple quiz game\n",
    "\n",
    "def simple_quiz_game():\n",
    "    try:\n",
    "        with open(\"quiz.txt\", \"r\") as file:\n",
    "            score = 0\n",
    "            for line in file:\n",
    "                if ',' not in line:\n",
    "                    continue\n",
    "                question, answer = line.strip().split(',')\n",
    "                user_answer = input(question + \" \")\n",
    "                if user_answer.strip().lower() == answer.strip().lower():\n",
    "                    print(\"Correct!\")\n",
    "                    score += 1\n",
    "                else:\n",
    "                    print(f\"Wrong! Correct answer is {answer}\")\n",
    "        \n",
    "        with open(\"score.txt\", \"w\") as score_file:\n",
    "            score_file.write(f\"Your score: {score}\\n\")\n",
    "            print(\"Score saved to score.txt\")\n",
    "\n",
    "    except FileNotFoundError:\n",
    "        print(\"quiz.txt file not found!\")\n"
   ]
  },
  {
   "cell_type": "code",
   "execution_count": 15,
   "id": "7322b327",
   "metadata": {},
   "outputs": [
    {
     "name": "stdout",
     "output_type": "stream",
     "text": [
      "Score saved to score.txt\n"
     ]
    }
   ],
   "source": [
    "simple_quiz_game()"
   ]
  },
  {
   "cell_type": "code",
   "execution_count": 16,
   "id": "9a3e4007",
   "metadata": {},
   "outputs": [],
   "source": [
    "# Error Logger\n",
    "\n",
    "import datetime\n",
    "\n",
    "def log_error(e):\n",
    "    with open(\"error_log.txt\", \"a\") as f:\n",
    "        timestamp = datetime.datetime.now()\n",
    "        f.write(f\"{timestamp} - Error: {str(e)}\\n\")\n",
    "\n",
    "def divide_numbers():\n",
    "    try:\n",
    "        a = int(input(\"Enter numerator: \"))\n",
    "        b = int(input(\"Enter denominator: \"))\n",
    "        print(\"Result:\", a / b)\n",
    "    except Exception as e:\n",
    "        print(\"An error occurred:\", e)\n",
    "        log_error(e)"
   ]
  },
  {
   "cell_type": "code",
   "execution_count": 17,
   "id": "eb706dc7",
   "metadata": {},
   "outputs": [
    {
     "name": "stdout",
     "output_type": "stream",
     "text": [
      "Enter numerator: 7\n",
      "Enter denominator: 4\n",
      "Result: 1.75\n"
     ]
    }
   ],
   "source": [
    "divide_numbers()"
   ]
  },
  {
   "cell_type": "code",
   "execution_count": null,
   "id": "5a1b79ea",
   "metadata": {},
   "outputs": [],
   "source": []
  }
 ],
 "metadata": {
  "kernelspec": {
   "display_name": "Python 3 (ipykernel)",
   "language": "python",
   "name": "python3"
  },
  "language_info": {
   "codemirror_mode": {
    "name": "ipython",
    "version": 3
   },
   "file_extension": ".py",
   "mimetype": "text/x-python",
   "name": "python",
   "nbconvert_exporter": "python",
   "pygments_lexer": "ipython3",
   "version": "3.9.12"
  }
 },
 "nbformat": 4,
 "nbformat_minor": 5
}
