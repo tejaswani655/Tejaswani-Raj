{
 "cells": [
  {
   "cell_type": "code",
   "execution_count": null,
   "id": "820c59a9-4ad2-422c-b993-f8ee9a4b9d43",
   "metadata": {},
   "outputs": [],
   "source": [
    "#Day3"
   ]
  },
  {
   "cell_type": "code",
   "execution_count": 2,
   "id": "9da74e0e-5cb1-4da5-af02-2123a74ac579",
   "metadata": {},
   "outputs": [
    {
     "name": "stdout",
     "output_type": "stream",
     "text": [
      "something went wrong\n",
      "invalid datatype comparison\n"
     ]
    }
   ],
   "source": [
    "age = '23' \n",
    "\n",
    "try:\n",
    "    if age >=18:\n",
    "        print('can vote')\n",
    "    else:\n",
    "        print('can\\'t vote')\n",
    "except TypeError:\n",
    "    print('something went wrong')\n",
    "    print('invalid datatype comparison')\n",
    "except:\n",
    "    print('invalid code!!')"
   ]
  },
  {
   "cell_type": "code",
   "execution_count": 9,
   "id": "8175e6f5-39aa-45a4-a21d-c4c82b05a3ee",
   "metadata": {},
   "outputs": [],
   "source": [
    "def stu_rec(**kwargs):\n",
    "    import pandas as pd \n",
    "    try:\n",
    "        data = pd.DataFrame(kwargs)\n",
    "        return data\n",
    "    except:\n",
    "        data = pd.DataFrame(kwargs, index = [1])\n",
    "        return data"
   ]
  },
  {
   "cell_type": "code",
   "execution_count": 29,
   "id": "de690e93-d443-4a81-8403-6002e1641803",
   "metadata": {},
   "outputs": [
    {
     "data": {
      "text/html": [
       "<div>\n",
       "<style scoped>\n",
       "    .dataframe tbody tr th:only-of-type {\n",
       "        vertical-align: middle;\n",
       "    }\n",
       "\n",
       "    .dataframe tbody tr th {\n",
       "        vertical-align: top;\n",
       "    }\n",
       "\n",
       "    .dataframe thead th {\n",
       "        text-align: right;\n",
       "    }\n",
       "</style>\n",
       "<table border=\"1\" class=\"dataframe\">\n",
       "  <thead>\n",
       "    <tr style=\"text-align: right;\">\n",
       "      <th></th>\n",
       "      <th>Name</th>\n",
       "      <th>Age</th>\n",
       "      <th>Address</th>\n",
       "      <th>Sec</th>\n",
       "    </tr>\n",
       "  </thead>\n",
       "  <tbody>\n",
       "    <tr>\n",
       "      <th>0</th>\n",
       "      <td>Anuj</td>\n",
       "      <td>20</td>\n",
       "      <td>maujpur</td>\n",
       "      <td>A</td>\n",
       "    </tr>\n",
       "    <tr>\n",
       "      <th>1</th>\n",
       "      <td>anupam</td>\n",
       "      <td>21</td>\n",
       "      <td>Rotak</td>\n",
       "      <td>B</td>\n",
       "    </tr>\n",
       "    <tr>\n",
       "      <th>2</th>\n",
       "      <td>nakul</td>\n",
       "      <td>21</td>\n",
       "      <td>narela</td>\n",
       "      <td>C</td>\n",
       "    </tr>\n",
       "    <tr>\n",
       "      <th>3</th>\n",
       "      <td>Anjany</td>\n",
       "      <td>20</td>\n",
       "      <td>Gaziabad</td>\n",
       "      <td>D</td>\n",
       "    </tr>\n",
       "  </tbody>\n",
       "</table>\n",
       "</div>"
      ],
      "text/plain": [
       "     Name  Age   Address Sec\n",
       "0    Anuj   20   maujpur   A\n",
       "1  anupam   21     Rotak   B\n",
       "2   nakul   21    narela   C\n",
       "3  Anjany   20  Gaziabad   D"
      ]
     },
     "execution_count": 29,
     "metadata": {},
     "output_type": "execute_result"
    }
   ],
   "source": [
    "stu_rec(Name = ['Anuj', 'anupam', 'nakul','Anjany'],\n",
    "        Age = [20,21,21,20],\n",
    "        Address = ['maujpur','Rotak', 'narela','Gaziabad'],\n",
    "       Sec = list('ABCD'))"
   ]
  },
  {
   "cell_type": "code",
   "execution_count": 27,
   "id": "6774835f-65bd-42fb-831b-3e8916279082",
   "metadata": {},
   "outputs": [],
   "source": [
    "def Show_Time():\n",
    "    try:\n",
    "        while True:\n",
    "            import time \n",
    "            print(time.asctime())\n",
    "            time.sleep(1)\n",
    "            display(clear=True)\n",
    "    except:\n",
    "        print('Time Stopped')"
   ]
  },
  {
   "cell_type": "code",
   "execution_count": 26,
   "id": "8d44d1d6-dec7-411b-9fc1-ee8083a5adf5",
   "metadata": {},
   "outputs": [
    {
     "name": "stdout",
     "output_type": "stream",
     "text": [
      "Fri Jul  4 10:40:15 2025\n",
      "Time Stopped\n"
     ]
    }
   ],
   "source": [
    "Show_Time()"
   ]
  },
  {
   "cell_type": "code",
   "execution_count": null,
   "id": "eb08332f-1cf9-492b-b5eb-2290bb8405bc",
   "metadata": {},
   "outputs": [],
   "source": []
  },
  {
   "cell_type": "code",
   "execution_count": null,
   "id": "5fddeb27-487e-41ec-a267-d6950517fc87",
   "metadata": {},
   "outputs": [],
   "source": []
  },
  {
   "cell_type": "code",
   "execution_count": null,
   "id": "bf31fa86-3e23-4198-b065-916f585d517e",
   "metadata": {},
   "outputs": [],
   "source": []
  },
  {
   "cell_type": "code",
   "execution_count": null,
   "id": "61a785cf-55c6-4f58-9bba-d135613a0aa9",
   "metadata": {},
   "outputs": [],
   "source": []
  },
  {
   "cell_type": "code",
   "execution_count": null,
   "id": "b1c03184-b6fd-49d7-958d-80f4588bb522",
   "metadata": {},
   "outputs": [],
   "source": []
  },
  {
   "cell_type": "code",
   "execution_count": null,
   "id": "484ae915-aacc-4c8d-bbdb-f5b387079e66",
   "metadata": {},
   "outputs": [],
   "source": []
  },
  {
   "cell_type": "code",
   "execution_count": null,
   "id": "c5b6faa5-0077-47f5-8fa8-e45a92619eed",
   "metadata": {},
   "outputs": [],
   "source": []
  },
  {
   "cell_type": "code",
   "execution_count": 1,
   "id": "f69f8839-0795-4037-81cd-a1d5b8077a6c",
   "metadata": {},
   "outputs": [
    {
     "name": "stdout",
     "output_type": "stream",
     "text": [
      "This is Anuman's Module\n",
      "Info: https://www.google.com/\n",
      "Done\n",
      "Palindrome\n"
     ]
    }
   ],
   "source": [
    "import Anuman as am\n",
    "print('Done')\n",
    "print(am.check_palindrome('malayalam'))"
   ]
  },
  {
   "cell_type": "code",
   "execution_count": 43,
   "id": "5438da63-58e3-4573-a09b-381b15e2bd71",
   "metadata": {},
   "outputs": [
    {
     "name": "stdout",
     "output_type": "stream",
     "text": [
      "& \n",
      "& & \n",
      "& & & \n",
      "& & & & \n",
      "& & & & & \n",
      "None\n"
     ]
    }
   ],
   "source": [
    "print(am.star(n = 5, typ = 'left',shape = '&'))"
   ]
  },
  {
   "cell_type": "code",
   "execution_count": 46,
   "id": "ae4f72d5-747a-427f-83df-c87a478a5738",
   "metadata": {},
   "outputs": [
    {
     "data": {
      "text/plain": [
       "944"
      ]
     },
     "execution_count": 46,
     "metadata": {},
     "output_type": "execute_result"
    }
   ],
   "source": [
    "am.max_sales(12,34,574,63,789,944)"
   ]
  },
  {
   "cell_type": "code",
   "execution_count": 47,
   "id": "4e7ebac9-6a49-429b-b929-6b6d29ee3a3f",
   "metadata": {},
   "outputs": [
    {
     "name": "stdout",
     "output_type": "stream",
     "text": [
      "not a prin no.\n"
     ]
    }
   ],
   "source": [
    "print(am.check_prime(3456))"
   ]
  },
  {
   "cell_type": "code",
   "execution_count": 49,
   "id": "d86679eb-aebd-4829-ab7d-2a94874594e6",
   "metadata": {},
   "outputs": [
    {
     "name": "stdout",
     "output_type": "stream",
     "text": [
      "[0, 1, 1, 2, 3, 5, 8, 13, 21, 34, 55, 89]\n"
     ]
    }
   ],
   "source": [
    "print(am.give_fibo(12))"
   ]
  },
  {
   "cell_type": "code",
   "execution_count": 50,
   "id": "44d1d78d-6d1c-4089-9eba-374377dc9df2",
   "metadata": {},
   "outputs": [
    {
     "data": {
      "text/plain": [
       "78"
      ]
     },
     "execution_count": 50,
     "metadata": {},
     "output_type": "execute_result"
    }
   ],
   "source": [
    "am.sum_of_n_natural_nos(12)\n"
   ]
  },
  {
   "cell_type": "code",
   "execution_count": 61,
   "id": "911de5b8-65ea-4293-96be-e3d789442f10",
   "metadata": {},
   "outputs": [
    {
     "ename": "NameError",
     "evalue": "name 'gTTS' is not defined",
     "output_type": "error",
     "traceback": [
      "\u001b[1;31m---------------------------------------------------------------------------\u001b[0m",
      "\u001b[1;31mNameError\u001b[0m                                 Traceback (most recent call last)",
      "Cell \u001b[1;32mIn[61], line 1\u001b[0m\n\u001b[1;32m----> 1\u001b[0m am\u001b[38;5;241m.\u001b[39msound_box(\u001b[38;5;241m30\u001b[39m)\n",
      "File \u001b[1;32m~\\Anuman.py:124\u001b[0m, in \u001b[0;36msound_box\u001b[1;34m(paisa, platform)\u001b[0m\n\u001b[0;32m    122\u001b[0m def sound_box(paisa,platform = 'Paytm'):\n\u001b[0;32m    123\u001b[0m     text  = f'''{platform} par {paisa} rs Prapt hue.'''\n\u001b[1;32m--> 124\u001b[0m     audio = gTTS(text)\n\u001b[0;32m    125\u001b[0m     audio.save('paytm.mp3')\n\u001b[0;32m    126\u001b[0m \n",
      "\u001b[1;31mNameError\u001b[0m: name 'gTTS' is not defined"
     ]
    }
   ],
   "source": []
  },
  {
   "cell_type": "code",
   "execution_count": 59,
   "id": "13dbbfa1-67b4-433c-a59c-92189e6bf87c",
   "metadata": {},
   "outputs": [
    {
     "ename": "NameError",
     "evalue": "name 'gTTS' is not defined",
     "output_type": "error",
     "traceback": [
      "\u001b[1;31m---------------------------------------------------------------------------\u001b[0m",
      "\u001b[1;31mNameError\u001b[0m                                 Traceback (most recent call last)",
      "Cell \u001b[1;32mIn[59], line 1\u001b[0m\n\u001b[1;32m----> 1\u001b[0m \u001b[38;5;28mprint\u001b[39m(am\u001b[38;5;241m.\u001b[39msound_box(\u001b[38;5;241m30\u001b[39m))\n",
      "File \u001b[1;32m~\\Anuman.py:124\u001b[0m, in \u001b[0;36msound_box\u001b[1;34m(paisa, platform)\u001b[0m\n\u001b[0;32m    122\u001b[0m def sound_box(paisa,platform = 'Paytm'):\n\u001b[0;32m    123\u001b[0m     text  = f'''{platform} par {paisa} rs Prapt hue.'''\n\u001b[1;32m--> 124\u001b[0m     audio = gTTS(text)\n\u001b[0;32m    125\u001b[0m     audio.save('paytm.mp3')\n\u001b[0;32m    126\u001b[0m \n",
      "\u001b[1;31mNameError\u001b[0m: name 'gTTS' is not defined"
     ]
    }
   ],
   "source": []
  },
  {
   "cell_type": "code",
   "execution_count": null,
   "id": "9970af18-fe60-42a4-acc2-fec3e497ab3a",
   "metadata": {},
   "outputs": [],
   "source": [
    "import math as m"
   ]
  },
  {
   "cell_type": "code",
   "execution_count": 69,
   "id": "1f115c05-392d-41d8-a7cd-05e613cc571a",
   "metadata": {},
   "outputs": [
    {
     "name": "stdout",
     "output_type": "stream",
     "text": [
      "Requirement already satisfied: gTTS in c:\\users\\anuma\\new folder\\lib\\site-packages (2.5.4)\n",
      "Requirement already satisfied: requests<3,>=2.27 in c:\\users\\anuma\\new folder\\lib\\site-packages (from gTTS) (2.32.3)\n",
      "Requirement already satisfied: click<8.2,>=7.1 in c:\\users\\anuma\\new folder\\lib\\site-packages (from gTTS) (8.1.8)\n",
      "Requirement already satisfied: colorama in c:\\users\\anuma\\new folder\\lib\\site-packages (from click<8.2,>=7.1->gTTS) (0.4.6)\n",
      "Requirement already satisfied: charset-normalizer<4,>=2 in c:\\users\\anuma\\new folder\\lib\\site-packages (from requests<3,>=2.27->gTTS) (3.3.2)\n",
      "Requirement already satisfied: idna<4,>=2.5 in c:\\users\\anuma\\new folder\\lib\\site-packages (from requests<3,>=2.27->gTTS) (3.7)\n",
      "Requirement already satisfied: urllib3<3,>=1.21.1 in c:\\users\\anuma\\new folder\\lib\\site-packages (from requests<3,>=2.27->gTTS) (2.3.0)\n",
      "Requirement already satisfied: certifi>=2017.4.17 in c:\\users\\anuma\\new folder\\lib\\site-packages (from requests<3,>=2.27->gTTS) (2025.6.15)\n"
     ]
    }
   ],
   "source": [
    "# !pip install gTTS"
   ]
  },
  {
   "cell_type": "code",
   "execution_count": 3,
   "id": "9706c5ca-3f62-46c9-afc7-b99a0c75366c",
   "metadata": {},
   "outputs": [
    {
     "ename": "ModuleNotFoundError",
     "evalue": "No module named 'pygame'",
     "output_type": "error",
     "traceback": [
      "\u001b[1;31m---------------------------------------------------------------------------\u001b[0m",
      "\u001b[1;31mModuleNotFoundError\u001b[0m                       Traceback (most recent call last)",
      "Cell \u001b[1;32mIn[3], line 2\u001b[0m\n\u001b[0;32m      1\u001b[0m \u001b[38;5;28;01mfrom\u001b[39;00m\u001b[38;5;250m \u001b[39m\u001b[38;5;21;01mgtts\u001b[39;00m\u001b[38;5;250m \u001b[39m\u001b[38;5;28;01mimport\u001b[39;00m gTTS\n\u001b[1;32m----> 2\u001b[0m am\u001b[38;5;241m.\u001b[39msound_box(\u001b[38;5;241m30\u001b[39m)\n",
      "File \u001b[1;32m~\\Anuman.py:128\u001b[0m, in \u001b[0;36msound_box\u001b[1;34m(paisa, platform)\u001b[0m\n\u001b[0;32m    125\u001b[0m audio \u001b[38;5;241m=\u001b[39m gTTS(text)\n\u001b[0;32m    126\u001b[0m audio\u001b[38;5;241m.\u001b[39msave(\u001b[38;5;124m'\u001b[39m\u001b[38;5;124mpaytm.mp3\u001b[39m\u001b[38;5;124m'\u001b[39m)\n\u001b[1;32m--> 128\u001b[0m \u001b[38;5;28;01mimport\u001b[39;00m\u001b[38;5;250m \u001b[39m\u001b[38;5;21;01mpygame\u001b[39;00m\u001b[38;5;250m \u001b[39m\u001b[38;5;28;01mas\u001b[39;00m\u001b[38;5;250m \u001b[39m\u001b[38;5;21;01mp\u001b[39;00m\n\u001b[0;32m    129\u001b[0m p\u001b[38;5;241m.\u001b[39minit()\n\u001b[0;32m    131\u001b[0m music \u001b[38;5;241m=\u001b[39m p\u001b[38;5;241m.\u001b[39mmixer\u001b[38;5;241m.\u001b[39mSound(\u001b[38;5;124m'\u001b[39m\u001b[38;5;124mpaytm.mp3\u001b[39m\u001b[38;5;124m'\u001b[39m)\n",
      "\u001b[1;31mModuleNotFoundError\u001b[0m: No module named 'pygame'"
     ]
    }
   ],
   "source": [
    "from gtts import gTTS\n",
    "am.sound_box(30)"
   ]
  },
  {
   "cell_type": "code",
   "execution_count": 4,
   "id": "f50e518b-761b-4d0c-9094-58273dc82e7e",
   "metadata": {},
   "outputs": [
    {
     "name": "stdout",
     "output_type": "stream",
     "text": [
      "Collecting pygame\n",
      "  Downloading pygame-2.6.1-cp313-cp313-win_amd64.whl.metadata (13 kB)\n",
      "Downloading pygame-2.6.1-cp313-cp313-win_amd64.whl (10.6 MB)\n",
      "   ---------------------------------------- 0.0/10.6 MB ? eta -:--:--\n",
      "   ---------------------- ----------------- 6.0/10.6 MB 47.4 MB/s eta 0:00:01\n",
      "   ---------------------------------------- 10.6/10.6 MB 39.4 MB/s eta 0:00:00\n",
      "Installing collected packages: pygame\n",
      "Successfully installed pygame-2.6.1\n"
     ]
    }
   ],
   "source": [
    "!pip install pygame"
   ]
  },
  {
   "cell_type": "code",
   "execution_count": 6,
   "id": "7ea19d54-9d46-4363-87ce-e53bcf4d8065",
   "metadata": {},
   "outputs": [],
   "source": [
    "from gtts import gTTS\n",
    "am.sound_box(30)"
   ]
  },
  {
   "cell_type": "code",
   "execution_count": null,
   "id": "fc207dff-5319-46ca-9947-3ab319e5e4a0",
   "metadata": {},
   "outputs": [],
   "source": [
    "#File Handling"
   ]
  },
  {
   "cell_type": "code",
   "execution_count": 9,
   "id": "9d36c2ea-6028-4809-9aaa-8083a6cb7edf",
   "metadata": {},
   "outputs": [
    {
     "name": "stdout",
     "output_type": "stream",
     "text": [
      "done\n"
     ]
    }
   ],
   "source": [
    "from Anuman import *\n",
    "print('done')"
   ]
  },
  {
   "cell_type": "code",
   "execution_count": 10,
   "id": "65c9dae8-5dc0-4f77-8452-00f31f6816db",
   "metadata": {},
   "outputs": [
    {
     "data": {
      "text/plain": [
       "120"
      ]
     },
     "execution_count": 10,
     "metadata": {},
     "output_type": "execute_result"
    }
   ],
   "source": [
    "sum_of_n_natural_nos(15)"
   ]
  },
  {
   "cell_type": "code",
   "execution_count": 11,
   "id": "e5e2fbdc-b634-4065-b372-d7503f8e6e7b",
   "metadata": {},
   "outputs": [
    {
     "data": {
      "text/plain": [
       "[0, 1, 1, 2, 3, 5, 8, 13, 21, 34, 55, 89, 144]"
      ]
     },
     "execution_count": 11,
     "metadata": {},
     "output_type": "execute_result"
    }
   ],
   "source": [
    "give_fibo(13)"
   ]
  },
  {
   "cell_type": "code",
   "execution_count": 16,
   "id": "7b1c5aa9-6226-4981-9ef8-1673d9281c41",
   "metadata": {},
   "outputs": [
    {
     "data": {
      "text/html": [
       "<div>\n",
       "<style scoped>\n",
       "    .dataframe tbody tr th:only-of-type {\n",
       "        vertical-align: middle;\n",
       "    }\n",
       "\n",
       "    .dataframe tbody tr th {\n",
       "        vertical-align: top;\n",
       "    }\n",
       "\n",
       "    .dataframe thead th {\n",
       "        text-align: right;\n",
       "    }\n",
       "</style>\n",
       "<table border=\"1\" class=\"dataframe\">\n",
       "  <thead>\n",
       "    <tr style=\"text-align: right;\">\n",
       "      <th></th>\n",
       "      <th>Name</th>\n",
       "      <th>Age</th>\n",
       "      <th>sec</th>\n",
       "    </tr>\n",
       "  </thead>\n",
       "  <tbody>\n",
       "    <tr>\n",
       "      <th>1</th>\n",
       "      <td>Anuj</td>\n",
       "      <td>20</td>\n",
       "      <td>E2</td>\n",
       "    </tr>\n",
       "  </tbody>\n",
       "</table>\n",
       "</div>"
      ],
      "text/plain": [
       "   Name Age sec\n",
       "1  Anuj  20  E2"
      ]
     },
     "execution_count": 16,
     "metadata": {},
     "output_type": "execute_result"
    }
   ],
   "source": [
    "students_records(Name = 'Anuj', Age = '20',sec = 'E2')"
   ]
  },
  {
   "cell_type": "code",
   "execution_count": 2,
   "id": "c2efaabe-478a-410e-b368-8ec1fb7e4164",
   "metadata": {},
   "outputs": [],
   "source": [
    "import turtle\n",
    "for i in range(18):\n",
    "    turtle.bgcolor('white')\n",
    "    col = ['red', 'yellow','green','blue','orange']\n",
    "    import random\n",
    "    picked_color = random.choice(col)\n",
    "    turtle.color(picked_color)\n",
    "    turtle.circle(100)\n",
    "    turtle.left(224)\n",
    "    "
   ]
  },
  {
   "cell_type": "code",
   "execution_count": 1,
   "id": "8cbe8381-eeaf-43f1-9bc7-6ebaea18a46b",
   "metadata": {},
   "outputs": [],
   "source": [
    "import turtle\n",
    "for i in range(3):\n",
    "    turtle.forward(100)\n",
    "    turtle.left(120)\n",
    "   "
   ]
  },
  {
   "cell_type": "code",
   "execution_count": 1,
   "id": "6598d68e-31da-4cf6-8670-64e0fa787e4c",
   "metadata": {},
   "outputs": [],
   "source": [
    "import turtle\n",
    "for i in range(6):\n",
    "    turtle.forward(100)\n",
    "    turtle.left(60)\n",
    "   "
   ]
  },
  {
   "cell_type": "code",
   "execution_count": null,
   "id": "a178b3ba-df32-4ede-b092-426161202272",
   "metadata": {},
   "outputs": [],
   "source": [
    "# 1:- Text File\n",
    "#\n",
    "# .py,.html, .csv, .tsv, .css, .java, .c, c++,. json, .js,\n",
    "# 2: Binary File\n",
    "# Software\n",
    "# .pdf, .mp3, mp4, .png, .jpeg, .exe, .zip, .dat, .tar .xlsx, .ppt, .doc, .ipynb"
   ]
  },
  {
   "cell_type": "code",
   "execution_count": null,
   "id": "b63a5d58-5e8d-4186-909f-0c7d04848391",
   "metadata": {},
   "outputs": [],
   "source": [
    "# handling:- read, write, copy, append, delete, open, new"
   ]
  },
  {
   "cell_type": "code",
   "execution_count": null,
   "id": "f7c8f979-964d-460b-a275-9e529885d048",
   "metadata": {},
   "outputs": [],
   "source": [
    "#context Manager "
   ]
  },
  {
   "cell_type": "code",
   "execution_count": 4,
   "id": "de411ef9-d3fe-4606-85a9-bda059f7cd68",
   "metadata": {},
   "outputs": [
    {
     "name": "stdout",
     "output_type": "stream",
     "text": [
      "print('''This is Anuman's Module\n",
      "Info: https://www.google.com/''')\n",
      "\n",
      "#Palindrome\n",
      "\n"
     ]
    }
   ],
   "source": [
    "file = open('Anuman.py',mode = 'r')\n",
    "print(file.read())\n",
    "file.close()"
   ]
  },
  {
   "cell_type": "code",
   "execution_count": 22,
   "id": "754a09f8-c823-475b-b691-305c5faa9b5a",
   "metadata": {},
   "outputs": [
    {
     "name": "stdout",
     "output_type": "stream",
     "text": [
      "print('''This is Anuman's Module\n",
      "\n",
      "Info: https://www.google.com/''')\n",
      "\n",
      "\n",
      "\n",
      "#Palindrome\n",
      "\n",
      "def check_palindrome(word:str):\n",
      "\n"
     ]
    }
   ],
   "source": [
    "file = open('Anuman.py')\n",
    "for i in range(5):\n",
    "    print(file.readline())\n"
   ]
  },
  {
   "cell_type": "code",
   "execution_count": 28,
   "id": "ab3150e6-7085-408b-aafc-77fa8e3de138",
   "metadata": {},
   "outputs": [
    {
     "name": "stdout",
     "output_type": "stream",
     "text": [
      "Info: https://www.google.com/''')\n",
      "\n"
     ]
    }
   ],
   "source": [
    "f = open('Anuman.py')\n",
    "for i in range(10):\n",
    "    if i == 5:\n",
    "        print(file.readline())\n",
    "    else:\n",
    "        f.readline()"
   ]
  },
  {
   "cell_type": "code",
   "execution_count": 31,
   "id": "feeacce7-8a44-438d-bae6-a2d32afe41fd",
   "metadata": {},
   "outputs": [
    {
     "name": "stdout",
     "output_type": "stream",
     "text": [
      "[\"print('''This is Anuman's Module\\n\"]\n"
     ]
    }
   ],
   "source": [
    "file = open('Anuman.py')\n",
    "data = file.readlines()\n",
    "print(data.\n",
    "file.close"
   ]
  },
  {
   "cell_type": "code",
   "execution_count": null,
   "id": "6049dde9-ca95-4100-a266-92b93bda23dd",
   "metadata": {},
   "outputs": [],
   "source": []
  }
 ],
 "metadata": {
  "kernelspec": {
   "display_name": "Python [conda env:base] *",
   "language": "python",
   "name": "conda-base-py"
  },
  "language_info": {
   "codemirror_mode": {
    "name": "ipython",
    "version": 3
   },
   "file_extension": ".py",
   "mimetype": "text/x-python",
   "name": "python",
   "nbconvert_exporter": "python",
   "pygments_lexer": "ipython3",
   "version": "3.13.5"
  }
 },
 "nbformat": 4,
 "nbformat_minor": 5
}
