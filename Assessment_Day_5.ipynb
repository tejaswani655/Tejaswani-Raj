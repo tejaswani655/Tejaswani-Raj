{
 "cells": [
  {
   "cell_type": "code",
   "execution_count": 1,
   "id": "4a781fcd",
   "metadata": {},
   "outputs": [],
   "source": [
    "# Assessment_Day_5"
   ]
  },
  {
   "cell_type": "code",
   "execution_count": 5,
   "id": "95999239",
   "metadata": {},
   "outputs": [
    {
     "name": "stdout",
     "output_type": "stream",
     "text": [
      "Connect Created Successfully!!\n"
     ]
    }
   ],
   "source": [
    "import pymysql as py\n",
    "conn = py.connect (user = 'root',\n",
    "            password ='Ratna1277!',\n",
    "            host = 'localhost',\n",
    "            autocommit = True)\n",
    "print('Connect Created Successfully!!')"
   ]
  },
  {
   "cell_type": "code",
   "execution_count": 6,
   "id": "1c8e425f",
   "metadata": {},
   "outputs": [
    {
     "name": "stdout",
     "output_type": "stream",
     "text": [
      "done\n"
     ]
    }
   ],
   "source": [
    "cur = conn.cursor()\n",
    "print('done')"
   ]
  },
  {
   "cell_type": "code",
   "execution_count": 7,
   "id": "7587dff0",
   "metadata": {},
   "outputs": [
    {
     "name": "stdout",
     "output_type": "stream",
     "text": [
      "done\n"
     ]
    }
   ],
   "source": [
    "query = '''create database library_db;'''\n",
    "\n",
    "\n",
    "cur.execute(query)\n",
    "print('done')"
   ]
  },
  {
   "cell_type": "code",
   "execution_count": 12,
   "id": "3be376a6",
   "metadata": {},
   "outputs": [
    {
     "name": "stdout",
     "output_type": "stream",
     "text": [
      "done\n"
     ]
    }
   ],
   "source": [
    "query = '''USE library_db;'''\n",
    "cur.execute(query)\n",
    "print('done')"
   ]
  },
  {
   "cell_type": "code",
   "execution_count": 14,
   "id": "2fc3d524",
   "metadata": {},
   "outputs": [
    {
     "name": "stdout",
     "output_type": "stream",
     "text": [
      "done\n"
     ]
    }
   ],
   "source": [
    "query = (\"\"\"\n",
    "CREATE TABLE books (\n",
    "    book_id int not null,\n",
    "    title varchar(50),\n",
    "    author varchar(50),\n",
    "    price float\n",
    ")\n",
    "\"\"\")\n",
    "\n",
    "cur.execute(query)\n",
    "print('done')"
   ]
  },
  {
   "cell_type": "code",
   "execution_count": 24,
   "id": "69d64d2e",
   "metadata": {},
   "outputs": [
    {
     "name": "stdout",
     "output_type": "stream",
     "text": [
      "done\n"
     ]
    }
   ],
   "source": [
    "\n",
    "query = ''' insert into books values\n",
    "(110,\"Wings of Fire\", \"A.P.J. Abdul Kalam\", 250),\n",
    "(111,\"The Secret\", \"Rhonda Byrne\", 300),\n",
    "(112,\"Python Made Easy\", \"John Smith\", 400); '''\n",
    "cur.execute(query)\n",
    "print('done')"
   ]
  },
  {
   "cell_type": "code",
   "execution_count": 27,
   "id": "d26532c1",
   "metadata": {},
   "outputs": [
    {
     "name": "stdout",
     "output_type": "stream",
     "text": [
      " Total price of all books is ₹ 950.0\n"
     ]
    }
   ],
   "source": [
    "cur.execute(\"Select SUM(price) FROM books\")\n",
    "result = cur.fetchone()\n",
    "total_price = result[0]\n",
    "\n",
    "print(\" Total price of all books is ₹\", total_price)"
   ]
  },
  {
   "cell_type": "code",
   "execution_count": 29,
   "id": "fc9c82da",
   "metadata": {},
   "outputs": [
    {
     "name": "stdout",
     "output_type": "stream",
     "text": [
      " books_data.csv\n",
      "dawg\n"
     ]
    }
   ],
   "source": [
    "import pandas as pd\n",
    "\n",
    "cur.execute(\"SELECT * FROM books\")\n",
    "rows = cur.fetchall()\n",
    "\n",
    "\n",
    "df = pd.DataFrame(rows, columns=[\"book_id\", \"title\", \"author\", \"price\"])\n",
    "\n",
    "\n",
    "df.to_csv(\"books_data.csv\", index=False)\n",
    "\n",
    "print(\" books_data.csv\")\n",
    "print('dawg')"
   ]
  },
  {
   "cell_type": "code",
   "execution_count": null,
   "id": "848eeb43",
   "metadata": {},
   "outputs": [],
   "source": []
  }
 ],
 "metadata": {
  "kernelspec": {
   "display_name": "Python 3 (ipykernel)",
   "language": "python",
   "name": "python3"
  },
  "language_info": {
   "codemirror_mode": {
    "name": "ipython",
    "version": 3
   },
   "file_extension": ".py",
   "mimetype": "text/x-python",
   "name": "python",
   "nbconvert_exporter": "python",
   "pygments_lexer": "ipython3",
   "version": "3.9.12"
  }
 },
 "nbformat": 4,
 "nbformat_minor": 5
}
