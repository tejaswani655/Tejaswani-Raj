{
 "cells": [
  {
   "cell_type": "code",
   "execution_count": 1,
   "id": "5108f823-e373-4525-8609-1afe0b0a0b5d",
   "metadata": {},
   "outputs": [],
   "source": [
    "#a1) list is mutable.eg:list = [1,2,3]\n",
    "    #tuple is immutable. eg: tuple = (1,2,3)"
   ]
  },
  {
   "cell_type": "code",
   "execution_count": 2,
   "id": "2ba377cf-3b45-4486-ba8b-daf4e1170907",
   "metadata": {},
   "outputs": [],
   "source": [
    "#q2) input() takes input from user. it return string. to convert it we use :\n",
    "# int(input(\"enter\"))"
   ]
  },
  {
   "cell_type": "code",
   "execution_count": 3,
   "id": "7e3c93a9-c4c2-4e29-991b-b0406ef862fd",
   "metadata": {},
   "outputs": [],
   "source": [
    "#q3) used to store data in key:value format\n",
    "dict = {'name':'teju','age':20,'clg':'ipu',}"
   ]
  },
  {
   "cell_type": "code",
   "execution_count": 4,
   "id": "6d9fafa5-ae3e-4de6-9bb8-33c90802881e",
   "metadata": {},
   "outputs": [
    {
     "name": "stdout",
     "output_type": "stream",
     "text": [
      "1\n",
      "2\n",
      "3\n",
      "4\n",
      "5\n"
     ]
    }
   ],
   "source": [
    "#q4)to create loop repeatedly  eg.:\n",
    "for i in range(1,6):\n",
    "    print(i)"
   ]
  },
  {
   "cell_type": "code",
   "execution_count": 5,
   "id": "b8867069-96fe-4bf0-a2f6-00975007aceb",
   "metadata": {},
   "outputs": [
    {
     "name": "stdout",
     "output_type": "stream",
     "text": [
      "cannot divide by 0\n",
      "done\n"
     ]
    }
   ],
   "source": [
    "#q5) to handle errors\n",
    "try:\n",
    "    x=10/0\n",
    "except ZeroDivisionError:\n",
    "    print(\"cannot divide by 0\")\n",
    "finally:\n",
    "    print(\"done\")"
   ]
  },
  {
   "cell_type": "code",
   "execution_count": 9,
   "id": "20fa430e-05f0-4017-b36b-68d43288deff",
   "metadata": {},
   "outputs": [],
   "source": [
    "#q6) to import diff modules for easy coding\n",
    "#import math is used to import math module\n",
    "math.sqrt(16)\n",
    "#from math import sqrt:imports only sqrt\n",
    "sqrt(16)"
   ]
  },
  {
   "cell_type": "code",
   "execution_count": 36,
   "id": "329a9fd5-1729-46a3-ae26-c280b72c9ead",
   "metadata": {},
   "outputs": [
    {
     "name": "stdout",
     "output_type": "stream",
     "text": [
      "eggs\n"
     ]
    }
   ],
   "source": [
    "#q7) oops in python works on inheritance,polymorphism,encapsulation \n",
    "#classes are objects and objects are instance of an class\n",
    "class Dog:\n",
    "    def __init__(self,eat):\n",
    "        self.eat\n",
    "        \n",
    "    def eat(self):\n",
    "        print(\"eggs\")\n",
    "my_dog = Dog(\"meow\")\n",
    "my_dog.eat()"
   ]
  },
  {
   "cell_type": "code",
   "execution_count": 29,
   "id": "ea81d04d-dfba-4c5f-987a-35f85e8d935f",
   "metadata": {},
   "outputs": [],
   "source": [
    "#q8)to create loop in list"
   ]
  },
  {
   "cell_type": "code",
   "execution_count": 30,
   "id": "aa4cbe05-0045-4f34-aa72-d8cb0d6a5f5c",
   "metadata": {},
   "outputs": [
    {
     "name": "stdout",
     "output_type": "stream",
     "text": [
      "78.53981633974483\n"
     ]
    }
   ],
   "source": [
    "#q9) area\n",
    "import math\n",
    "def calculate_area(r):\n",
    "    return math.pi*r**2\n",
    "print(calculate_area(5))"
   ]
  },
  {
   "cell_type": "code",
   "execution_count": 31,
   "id": "db17760f-a519-49b5-915a-ff88e94bf693",
   "metadata": {},
   "outputs": [
    {
     "name": "stdin",
     "output_type": "stream",
     "text": [
      "enter name: tejas\n",
      "enter age: 20\n"
     ]
    },
    {
     "name": "stdout",
     "output_type": "stream",
     "text": [
      "hello tejas,you are 20 years old!\n"
     ]
    }
   ],
   "source": [
    "#q10)\n",
    "name = input(\"enter name:\")\n",
    "age = input(\"enter age:\")\n",
    "print(f\"hello {name},you are {age} years old!\")"
   ]
  },
  {
   "cell_type": "code",
   "execution_count": 25,
   "id": "fd640774-9b9c-4931-99cb-fb2c58c8ab05",
   "metadata": {},
   "outputs": [
    {
     "name": "stdout",
     "output_type": "stream",
     "text": [
      "(1, 'apple').['apple', 'litchi', 'kiwi', 'orange', 'banana']\n",
      "(2, 'litchi').['apple', 'litchi', 'kiwi', 'orange', 'banana']\n",
      "(3, 'kiwi').['apple', 'litchi', 'kiwi', 'orange', 'banana']\n",
      "(4, 'orange').['apple', 'litchi', 'kiwi', 'orange', 'banana']\n",
      "(5, 'banana').['apple', 'litchi', 'kiwi', 'orange', 'banana']\n"
     ]
    }
   ],
   "source": [
    "#q11)\n",
    "fruits = [\"apple\",\"litchi\",\"kiwi\",\"orange\",\"banana\"]\n",
    "for i in enumerate(fruits,start=1):\n",
    "    print(f\"{i}.{fruits}\")\n"
   ]
  },
  {
   "cell_type": "code",
   "execution_count": 32,
   "id": "1e324c7b-8a29-499f-a04f-9a767d3064b5",
   "metadata": {},
   "outputs": [
    {
     "name": "stdout",
     "output_type": "stream",
     "text": [
      "D\n",
      "C\n",
      "A\n"
     ]
    }
   ],
   "source": [
    "#q12)\n",
    "def grade_calculator(score):\n",
    "    if 90<= score <=100:\n",
    "        return \"A\"\n",
    "    elif 80<= score <=89:\n",
    "        return \"B\"\n",
    "    elif 70<= score <=79:\n",
    "        return \"C\"\n",
    "    elif 60<= score <=69:\n",
    "        return \"D\"\n",
    "    else:\n",
    "        return \"F\"\n",
    "print (grade_calculator(67))\n",
    "print (grade_calculator(79))\n",
    "print (grade_calculator(92))"
   ]
  },
  {
   "cell_type": "code",
   "execution_count": 33,
   "id": "d723952a-45ce-459a-b61c-223e19b84d47",
   "metadata": {},
   "outputs": [],
   "source": [
    "#q13)absent"
   ]
  },
  {
   "cell_type": "code",
   "execution_count": 38,
   "id": "92804ffb-3c28-49ce-9527-55448b4680e0",
   "metadata": {},
   "outputs": [
    {
     "name": "stdout",
     "output_type": "stream",
     "text": [
      "Tejaswani's Balance: ₹1200\n"
     ]
    }
   ],
   "source": [
    "#q14)\n",
    "class Bank_account:\n",
    "    def __init__(self, name, balance):\n",
    "        self.name = name\n",
    "        self.balance = balance\n",
    "\n",
    "    def deposit(self, amount):\n",
    "        self.balance += amount\n",
    "\n",
    "    def withdraw(self, amount):\n",
    "        if amount <= self.balance:\n",
    "            self.balance -= amount\n",
    "        else:\n",
    "            print(\"Insufficient balance\")\n",
    "\n",
    "    def display_balance(self):\n",
    "        print(f\"{self.name}'s Balance: ₹{self.balance}\")\n",
    "\n",
    "acc = Bank_account(\"Tejaswani\", 1000)\n",
    "acc.deposit(500)\n",
    "acc.withdraw(300)\n",
    "acc.display_balance()  "
   ]
  },
  {
   "cell_type": "code",
   "execution_count": null,
   "id": "4c846187-8ce2-456e-85d1-b5cafcb44975",
   "metadata": {},
   "outputs": [],
   "source": [
    "#q15)\n",
    "def check_prime(n):\n",
    "    if n<=1:\n",
    "        return False\n",
    "    "
   ]
  }
 ],
 "metadata": {
  "kernelspec": {
   "display_name": "Python [conda env:base] *",
   "language": "python",
   "name": "conda-base-py"
  },
  "language_info": {
   "codemirror_mode": {
    "name": "ipython",
    "version": 3
   },
   "file_extension": ".py",
   "mimetype": "text/x-python",
   "name": "python",
   "nbconvert_exporter": "python",
   "pygments_lexer": "ipython3",
   "version": "3.12.7"
  }
 },
 "nbformat": 4,
 "nbformat_minor": 5
}
