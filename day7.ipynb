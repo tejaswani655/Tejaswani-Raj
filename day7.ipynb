{
 "cells": [
  {
   "cell_type": "code",
   "execution_count": 61,
   "id": "3794ccc0-70b9-4895-adc8-2542c1b8d5dd",
   "metadata": {},
   "outputs": [],
   "source": [
    "class Moblie:\n",
    "    pass\n",
    "\n",
    "class Daily_Object:\n",
    "    def phone_case(self):\n",
    "        print('strong build phone case')\n",
    "\n",
    "class JBL:\n",
    "    def sonic_speaker(self):\n",
    "        print('high quality sound ')\n",
    "\n",
    "class Samsung:\n",
    "    def screen_display(self):\n",
    "        print('4K displays')\n",
    "\n",
    "class Nvidia:\n",
    "    def motherboard(self):\n",
    "        print('fast mother board')\n",
    "\n",
    "class Sony:\n",
    "    def camera(self):\n",
    "        print('best camera')\n",
    "\n",
    "class Lava:\n",
    "    def charger(self):\n",
    "        priint('superfast charger')\n",
    "\n",
    "class One_plus:\n",
    "    def charger(self):\n",
    "        print('Original Superfast Charger!!')\n",
    "\n",
    "class Mobile(Daily_Object,JBL,Samsung,Nvidia,Sony,One_plus,Lava):\n",
    "    def __init__(self):\n",
    "        print('phone object created sucessfully')\n",
    "    def charger(self):\n",
    "        print('Actual Charger from mobile!!')"
   ]
  },
  {
   "cell_type": "code",
   "execution_count": 62,
   "id": "373374f3-efb7-4d28-b0dd-0677a756b758",
   "metadata": {},
   "outputs": [
    {
     "name": "stdout",
     "output_type": "stream",
     "text": [
      "phone object created sucessfully\n"
     ]
    }
   ],
   "source": [
    "nothing = Mobile()"
   ]
  },
  {
   "cell_type": "code",
   "execution_count": 63,
   "id": "cc575e46-14fe-4493-8a2c-0b62ab003d27",
   "metadata": {},
   "outputs": [
    {
     "name": "stdout",
     "output_type": "stream",
     "text": [
      "Actual Charger from mobile!!\n"
     ]
    }
   ],
   "source": [
    "nothing.charger()"
   ]
  },
  {
   "cell_type": "code",
   "execution_count": 64,
   "id": "0091cb34-0b2f-43f0-9247-2afdce12ab3c",
   "metadata": {},
   "outputs": [],
   "source": [
    "#MultiLevel()"
   ]
  },
  {
   "cell_type": "code",
   "execution_count": 66,
   "id": "3ae74add-3845-42e8-ba84-e44753d5ce9d",
   "metadata": {},
   "outputs": [
    {
     "name": "stdout",
     "output_type": "stream",
     "text": [
      "Done\n"
     ]
    }
   ],
   "source": [
    "aman = GrandSon()\n",
    "print('Done')"
   ]
  },
  {
   "cell_type": "code",
   "execution_count": 67,
   "id": "3cef7dc1-2291-482e-8d36-2cd13f119731",
   "metadata": {},
   "outputs": [
    {
     "name": "stdout",
     "output_type": "stream",
     "text": [
      "Land Property\n"
     ]
    }
   ],
   "source": [
    "aman.land_property()"
   ]
  },
  {
   "cell_type": "code",
   "execution_count": 68,
   "id": "fc1e63df-5bea-4c12-9ad1-affd79a26099",
   "metadata": {},
   "outputs": [
    {
     "name": "stdout",
     "output_type": "stream",
     "text": [
      "Nothing!!\n"
     ]
    }
   ],
   "source": [
    "karan = Friend()"
   ]
  },
  {
   "cell_type": "code",
   "execution_count": 69,
   "id": "266ad495-e4b8-4f79-8419-6fe108a18ce8",
   "metadata": {},
   "outputs": [
    {
     "name": "stdout",
     "output_type": "stream",
     "text": [
      "Political Powers\n"
     ]
    }
   ],
   "source": [
    "karan.political_power()"
   ]
  },
  {
   "cell_type": "code",
   "execution_count": 70,
   "id": "0c2023b1-4641-451e-99f9-e8d010cccc7a",
   "metadata": {},
   "outputs": [],
   "source": [
    "#hybrid inheritance"
   ]
  },
  {
   "cell_type": "code",
   "execution_count": 72,
   "id": "dc7af53f-1c41-4b0f-8d8e-59c6ac6af591",
   "metadata": {},
   "outputs": [],
   "source": [
    "class Hybrid_class(Mobile, Friend,Audi): #Mobile(Multiple) Friend(Multilevel)\n",
    "    def __init__(self):\n",
    "        print('This is a Hybrid Class')\n",
    "\n",
    "    def info(self):\n",
    "        print('It can Call any method')\n",
    "        "
   ]
  },
  {
   "cell_type": "code",
   "execution_count": 75,
   "id": "ee16dc4d-ac00-4c73-bbf4-7913a72f9679",
   "metadata": {},
   "outputs": [
    {
     "name": "stdout",
     "output_type": "stream",
     "text": [
      "This is a Hybrid Class\n"
     ]
    }
   ],
   "source": [
    "ob = Hybrid_class()"
   ]
  },
  {
   "cell_type": "code",
   "execution_count": 76,
   "id": "c0362d9d-e115-46a6-b4b2-881154d8ba8b",
   "metadata": {},
   "outputs": [
    {
     "name": "stdout",
     "output_type": "stream",
     "text": [
      "It can Call any method\n"
     ]
    }
   ],
   "source": [
    "ob.info()"
   ]
  },
  {
   "cell_type": "code",
   "execution_count": 83,
   "id": "b7259e35-6781-4d70-bb30-e1023b1dfe80",
   "metadata": {},
   "outputs": [],
   "source": [
    "class UGC:\n",
    "    def __init__(self):\n",
    "        print('Grant Permission')\n",
    "    def college_approved(self):\n",
    "        print('College has been apporoved')\n",
    "\n",
    "class DU(UGC):\n",
    "    def multiple_colleges(self):\n",
    "        print('List of Colleges')\n",
    "\n",
    "class IP(UGC):\n",
    "    def multiple_colleges(self):\n",
    "        print('List of Colleges')\n",
    "\n",
    "class DTU(UGC):\n",
    "    def multiple_colleges(self):\n",
    "        print('List of Colleges')\n",
    "\n",
    "class BHU(UGC):\n",
    "    def multiple_colleges(self):\n",
    "        print('List of Colleges')"
   ]
  },
  {
   "cell_type": "code",
   "execution_count": 84,
   "id": "6772b67f-6b31-447c-a30b-9f427fb0a94f",
   "metadata": {},
   "outputs": [
    {
     "data": {
      "text/plain": [
       "'3445'"
      ]
     },
     "execution_count": 84,
     "metadata": {},
     "output_type": "execute_result"
    }
   ],
   "source": [
    "a = '34'\n",
    "b = '45'\n",
    "a+b"
   ]
  },
  {
   "cell_type": "code",
   "execution_count": 85,
   "id": "51886a5f-41fc-4e1a-bcb9-2d9abbce6912",
   "metadata": {},
   "outputs": [
    {
     "data": {
      "text/plain": [
       "79"
      ]
     },
     "execution_count": 85,
     "metadata": {},
     "output_type": "execute_result"
    }
   ],
   "source": [
    "a = 34\n",
    "b = 45\n",
    "\n",
    "a+b"
   ]
  },
  {
   "cell_type": "code",
   "execution_count": 86,
   "id": "b6bc943e-f84e-4c2a-8867-6028e1376427",
   "metadata": {},
   "outputs": [
    {
     "data": {
      "text/plain": [
       "[3, 464, 37, 53, 38, 35]"
      ]
     },
     "execution_count": 86,
     "metadata": {},
     "output_type": "execute_result"
    }
   ],
   "source": [
    "a = [3,464,37]\n",
    "b = [53,38,35]\n",
    "\n",
    "a+b"
   ]
  },
  {
   "cell_type": "code",
   "execution_count": 87,
   "id": "5cc2b437-5605-4b00-aa29-e774dcd6a07d",
   "metadata": {},
   "outputs": [
    {
     "data": {
      "text/plain": [
       "5"
      ]
     },
     "execution_count": 87,
     "metadata": {},
     "output_type": "execute_result"
    }
   ],
   "source": [
    "a = 'harry'\n",
    "len(a)"
   ]
  },
  {
   "cell_type": "code",
   "execution_count": 88,
   "id": "a0567a9b-4ae0-41b0-84f3-8b44559d3cdb",
   "metadata": {},
   "outputs": [
    {
     "data": {
      "text/plain": [
       "2"
      ]
     },
     "execution_count": 88,
     "metadata": {},
     "output_type": "execute_result"
    }
   ],
   "source": [
    "a = ['harry','jatin']\n",
    "len(a)"
   ]
  },
  {
   "cell_type": "code",
   "execution_count": 91,
   "id": "f3a2ba1a-f5e6-4f37-ba44-67c1ed79c2e1",
   "metadata": {},
   "outputs": [],
   "source": [
    "#overrriding\n",
    "#overloading"
   ]
  },
  {
   "cell_type": "code",
   "execution_count": 94,
   "id": "67679bd3-ee1d-405f-a6bf-f57f722bd04e",
   "metadata": {},
   "outputs": [
    {
     "name": "stdout",
     "output_type": "stream",
     "text": [
      "None <class 'NoneType'>\n"
     ]
    }
   ],
   "source": [
    "a= 45\n",
    "a = '45'\n",
    "a= None\n",
    "print(a,type(a))"
   ]
  },
  {
   "cell_type": "code",
   "execution_count": 97,
   "id": "2f92bf6a-ab64-4b61-891c-713ee12a5712",
   "metadata": {},
   "outputs": [
    {
     "name": "stdout",
     "output_type": "stream",
     "text": [
      "F1 Car Speed: Max Speed 200 km/hr\n",
      "F1 Car Speed: Max speed 250 km/hr\n",
      "F1 Car Speed: Max speed 300 km/hr\n"
     ]
    }
   ],
   "source": [
    "class Car:\n",
    "    def speed(self):\n",
    "        return('Max Speed 200 km/hr')\n",
    "    def auto_pilot(self):\n",
    "        return('It supports Auto pilot mode')\n",
    "    def info(self):\n",
    "        return('This is just a car object')\n",
    "\n",
    "class bmw(Car):\n",
    "    def speed(self):\n",
    "        return('Max speed 250 km/hr')\n",
    "    def info(self):\n",
    "        return('A bmw car object')\n",
    "\n",
    "class Audi(Car):\n",
    "    def speed(self):\n",
    "        return('Max speed 300 km/hr')\n",
    "    def info(self):\n",
    "        return('A Audi car 🚗')\n",
    "\n",
    "\n",
    "\n",
    "for i in [Car,bmw,Audi]:\n",
    "    f1 = i()\n",
    "    print('F1 Car Speed:',f1.speed())"
   ]
  },
  {
   "cell_type": "code",
   "execution_count": 101,
   "id": "5fb3e1cf-6acb-470c-bd42-db91558a0294",
   "metadata": {},
   "outputs": [
    {
     "name": "stdout",
     "output_type": "stream",
     "text": [
      "Max Speed 200 km/hr\n"
     ]
    }
   ],
   "source": [
    "f1 = Car()\n",
    "print(f1.speed())"
   ]
  },
  {
   "cell_type": "code",
   "execution_count": 102,
   "id": "07c7451c-0669-44fa-ad50-59b2bf831adf",
   "metadata": {},
   "outputs": [
    {
     "name": "stdout",
     "output_type": "stream",
     "text": [
      "Max speed 300 km/hr\n"
     ]
    }
   ],
   "source": [
    "f1 = Audi()\n",
    "print(f1.speed())"
   ]
  },
  {
   "cell_type": "code",
   "execution_count": 103,
   "id": "27d072bd-ca8f-43a5-bf79-57816de9bd1d",
   "metadata": {},
   "outputs": [
    {
     "name": "stdout",
     "output_type": "stream",
     "text": [
      "Max speed 250 km/hr\n"
     ]
    }
   ],
   "source": [
    "f1 = bmw()\n",
    "print(f1.speed())"
   ]
  },
  {
   "cell_type": "code",
   "execution_count": 110,
   "id": "d7a94ee8-337c-4ad0-bfc3-12b7fdd8a697",
   "metadata": {},
   "outputs": [
    {
     "name": "stdout",
     "output_type": "stream",
     "text": [
      "Hello teju,how are you?\n",
      "Your Address is delhi\n"
     ]
    }
   ],
   "source": [
    "class IITM:\n",
    "    def intro(self):\n",
    "        print('Hello candidates')\n",
    "    def intro(self,name):\n",
    "        print(f'Hello {name},how are you?')\n",
    "    def intro(self,name,address):\n",
    "        print(f'Hello {name},how are you?')\n",
    "        print(f'Your Address is {address}')\n",
    "\n",
    "a=IITM()\n",
    "a.intro('teju','delhi')"
   ]
  },
  {
   "cell_type": "code",
   "execution_count": 127,
   "id": "6d4e0a46-2b7e-4f80-88b4-384bffb93763",
   "metadata": {},
   "outputs": [],
   "source": [
    "class IITM:\n",
    "    def intro (self,name = None,address = None):\n",
    "        if (name==None) and (address==None):\n",
    "            print('Hello')\n",
    "        elif name!=None and (address is None):\n",
    "            print(f'hello {name}, How are you')\n",
    "            \n",
    "        elif (name!=None)and (address!=None):\n",
    "            print(f'Hello {name},Where do you live? {address}')\n",
    "        else:\n",
    "            print('hello buddy')"
   ]
  },
  {
   "cell_type": "code",
   "execution_count": 128,
   "id": "b7ec7907-cef8-4a26-ae9e-54022d5a639b",
   "metadata": {},
   "outputs": [
    {
     "name": "stdout",
     "output_type": "stream",
     "text": [
      "Hello\n"
     ]
    }
   ],
   "source": [
    "a = IITM()\n",
    "a.intro()"
   ]
  },
  {
   "cell_type": "code",
   "execution_count": 129,
   "id": "397641ba-dbb2-491c-9b2e-10345fa79fab",
   "metadata": {},
   "outputs": [
    {
     "name": "stdout",
     "output_type": "stream",
     "text": [
      "Hello lucky,Where do you live? delhi\n"
     ]
    }
   ],
   "source": [
    "a.intro('lucky','delhi')"
   ]
  },
  {
   "cell_type": "code",
   "execution_count": 5,
   "id": "9f82707c-bd3b-45eb-8900-b4447c18c002",
   "metadata": {},
   "outputs": [
    {
     "ename": "TypeError",
     "evalue": "Can't instantiate abstract class Website without an implementation for abstract methods 'login', 'logout'",
     "output_type": "error",
     "traceback": [
      "\u001b[0;31m---------------------------------------------------------------------------\u001b[0m",
      "\u001b[0;31mTypeError\u001b[0m                                 Traceback (most recent call last)",
      "Cell \u001b[0;32mIn[5], line 10\u001b[0m\n\u001b[1;32m      6\u001b[0m     \u001b[38;5;129m@abstractmethod\u001b[39m\n\u001b[1;32m      7\u001b[0m     \u001b[38;5;28;01mdef\u001b[39;00m \u001b[38;5;21mlogout\u001b[39m(\u001b[38;5;28mself\u001b[39m):\n\u001b[1;32m      8\u001b[0m         \u001b[38;5;28mprint\u001b[39m(\u001b[38;5;124m'\u001b[39m\u001b[38;5;124mA input method\u001b[39m\u001b[38;5;124m'\u001b[39m)\n\u001b[0;32m---> 10\u001b[0m asus \u001b[38;5;241m=\u001b[39m Website()\n\u001b[1;32m     11\u001b[0m \u001b[38;5;28mprint\u001b[39m(\u001b[38;5;124m'\u001b[39m\u001b[38;5;124mDone\u001b[39m\u001b[38;5;124m'\u001b[39m)\n",
      "\u001b[0;31mTypeError\u001b[0m: Can't instantiate abstract class Website without an implementation for abstract methods 'login', 'logout'"
     ]
    }
   ],
   "source": [
    "from abc import ABC , abstractmethod\n",
    "class Website(ABC):\n",
    "    @abstractmethod\n",
    "    def login(self):\n",
    "        print('This is a login method')\n",
    "    @abstractmethod\n",
    "    def logout(self):\n",
    "        print('A input method')\n",
    "\n",
    "asus = Website()\n",
    "print('Done')"
   ]
  },
  {
   "cell_type": "code",
   "execution_count": 6,
   "id": "1eafab2c-3dc5-47c3-bb61-4d6edc99c747",
   "metadata": {},
   "outputs": [],
   "source": [
    "class Nakul(Website):\n",
    "    def signup(self):\n",
    "        print('user can signup')\n",
    "    def login(self):\n",
    "        print('this is a login form')\n",
    "    def logout(self):\n",
    "        print('user can logout')\n",
    "\n",
    "google= Nakul()"
   ]
  },
  {
   "cell_type": "code",
   "execution_count": 7,
   "id": "971bb2b3-ce3a-481a-a1cc-fae43327ac1f",
   "metadata": {},
   "outputs": [
    {
     "name": "stdout",
     "output_type": "stream",
     "text": [
      "user can logout\n"
     ]
    }
   ],
   "source": [
    "google.logout()"
   ]
  },
  {
   "cell_type": "code",
   "execution_count": 8,
   "id": "7837c14b-321f-47bc-9c93-a0c41ee549e9",
   "metadata": {},
   "outputs": [
    {
     "name": "stdout",
     "output_type": "stream",
     "text": [
      "this is a login form\n"
     ]
    }
   ],
   "source": [
    "google.login()"
   ]
  },
  {
   "cell_type": "code",
   "execution_count": 9,
   "id": "6c9ba26a-c8a0-4bf7-977c-81967804b5af",
   "metadata": {},
   "outputs": [
    {
     "ename": "TypeError",
     "evalue": "Can't instantiate abstract class Website without an implementation for abstract methods 'login', 'logout'",
     "output_type": "error",
     "traceback": [
      "\u001b[0;31m---------------------------------------------------------------------------\u001b[0m",
      "\u001b[0;31mTypeError\u001b[0m                                 Traceback (most recent call last)",
      "Cell \u001b[0;32mIn[9], line 1\u001b[0m\n\u001b[0;32m----> 1\u001b[0m google\u001b[38;5;241m=\u001b[39mWebsite()\n",
      "\u001b[0;31mTypeError\u001b[0m: Can't instantiate abstract class Website without an implementation for abstract methods 'login', 'logout'"
     ]
    }
   ],
   "source": [
    "google=Website()"
   ]
  },
  {
   "cell_type": "code",
   "execution_count": null,
   "id": "921f5a84-b46b-45b4-a84b-4a9f2a7a5fd6",
   "metadata": {},
   "outputs": [],
   "source": []
  }
 ],
 "metadata": {
  "kernelspec": {
   "display_name": "Python [conda env:base] *",
   "language": "python",
   "name": "conda-base-py"
  },
  "language_info": {
   "codemirror_mode": {
    "name": "ipython",
    "version": 3
   },
   "file_extension": ".py",
   "mimetype": "text/x-python",
   "name": "python",
   "nbconvert_exporter": "python",
   "pygments_lexer": "ipython3",
   "version": "3.12.7"
  }
 },
 "nbformat": 4,
 "nbformat_minor": 5
}
