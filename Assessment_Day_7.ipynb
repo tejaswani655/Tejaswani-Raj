{
 "cells": [
  {
   "cell_type": "code",
   "execution_count": 1,
   "id": "1935cd1a-dbca-4031-a516-f2e5f2bbc1f0",
   "metadata": {},
   "outputs": [],
   "source": [
    "#Day_7_Assessment"
   ]
  },
  {
   "cell_type": "code",
   "execution_count": 5,
   "id": "61795948-b494-49aa-a710-988db2b2a0d4",
   "metadata": {},
   "outputs": [],
   "source": [
    "# Assignment 1: University System\n",
    "\n",
    "class Person:\n",
    "    def __init__(self, name, age):\n",
    "        self.name = name\n",
    "        self.age = age\n",
    "\n",
    "class Student(Person):\n",
    "    def __init__(self, name, age, student_id, course):\n",
    "        Person.__init__(self, name, age)\n",
    "        self.student_id = student_id\n",
    "        self.course = course\n",
    "\n",
    "class Teacher(Person):\n",
    "    def __init__(self, name, age, employee_id, subject):\n",
    "        Person.__init__(self, name, age)\n",
    "        self.employee_id = employee_id\n",
    "        self.subject = subject\n",
    "\n",
    "class TechStudent(Student):\n",
    "    def __init__(self, name, age, student_id, course, programming_language):\n",
    "        Student.__init__(self, name, age, student_id, course)\n",
    "        self.programming_language = programming_language\n"
   ]
  },
  {
   "cell_type": "code",
   "execution_count": 7,
   "id": "836b0e73-93d3-49fd-a2e1-cd90a0262861",
   "metadata": {},
   "outputs": [
    {
     "name": "stdout",
     "output_type": "stream",
     "text": [
      "{'name': 'Anuj', 'age': 20, 'student_id': '101', 'course': 'BCA', 'programming_language': 'Python'}\n"
     ]
    }
   ],
   "source": [
    "s = TechStudent(\"Anuj\", 20, \"101\", \"BCA\", \"Python\")\n",
    "print(vars(s))\n"
   ]
  },
  {
   "cell_type": "code",
   "execution_count": 2,
   "id": "6dc27982-9c1f-4a3d-a170-97e81a92ba06",
   "metadata": {},
   "outputs": [
    {
     "name": "stdout",
     "output_type": "stream",
     "text": [
      "Universal player playing media\n",
      "Universal player stopping media\n"
     ]
    }
   ],
   "source": [
    "# Assignment 2: Media Player\n",
    "\n",
    "from abc import ABC, abstractmethod\n",
    "\n",
    "class MediaPlayer(ABC):\n",
    "    @abstractmethod\n",
    "    def play(self):\n",
    "        pass\n",
    "\n",
    "    @abstractmethod\n",
    "    def stop(self):\n",
    "        pass\n",
    "\n",
    "class AudioPlayer(MediaPlayer):\n",
    "    def play(self):\n",
    "        print(\"Playing audio\")\n",
    "\n",
    "    def stop(self):\n",
    "        print(\"Stopping audio\")\n",
    "\n",
    "class VideoPlayer(MediaPlayer):\n",
    "    def play(self):\n",
    "        print(\"Playing video\")\n",
    "\n",
    "    def stop(self):\n",
    "        print(\"Stopping video\")\n",
    "\n",
    "class UniversalPlayer(AudioPlayer, VideoPlayer):\n",
    "    def play(self):\n",
    "        print(\"Universal player playing media\")\n",
    "\n",
    "    def stop(self):\n",
    "        print(\"Universal player stopping media\")\n",
    "\n",
    "u = UniversalPlayer()\n",
    "u.play()\n",
    "u.stop()\n"
   ]
  },
  {
   "cell_type": "code",
   "execution_count": 4,
   "id": "6f068c05-2841-4f4d-8a77-b4a7163fb2f6",
   "metadata": {},
   "outputs": [
    {
     "name": "stdout",
     "output_type": "stream",
     "text": [
      "Anuj's Interest Rate: 4.5%\n",
      "mandal's Interest Rate: 3.0%\n"
     ]
    }
   ],
   "source": [
    "# Assignment 3: Banking System\n",
    "\n",
    "class Bank:\n",
    "    def __init__(self, name, balance):\n",
    "        self.name = name\n",
    "        self.balance = balance\n",
    "\n",
    "    def deposit(self, amount):\n",
    "        self.balance += amount\n",
    "\n",
    "    def withdraw(self, amount):\n",
    "        if self.balance >= amount:\n",
    "            self.balance -= amount\n",
    "        else:\n",
    "            print(\"Insufficient balance\")\n",
    "\n",
    "    def interest_rate(self):\n",
    "        return 0.0\n",
    "\n",
    "class SavingsAccount(Bank):\n",
    "    def interest_rate(self):\n",
    "        return 4.5\n",
    "\n",
    "class CurrentAccount(Bank):\n",
    "    def interest_rate(self):\n",
    "        return 3.0\n",
    "\n",
    "\n",
    "accounts = [\n",
    "    SavingsAccount(\"Anuj\", 1000),\n",
    "    CurrentAccount(\"Mandal\", 2000)\n",
    "]\n",
    "\n",
    "for acc in accounts:\n",
    "    print(f\"{acc.name}'s Interest Rate: {acc.interest_rate()}%\")\n"
   ]
  },
  {
   "cell_type": "code",
   "execution_count": 8,
   "id": "b2cd0b57-1afe-4ba6-bc3c-55ca91626072",
   "metadata": {},
   "outputs": [],
   "source": [
    "# Assignment 4: Gaming Characters\n",
    "\n",
    "class Character:\n",
    "    def __init__(self, name, health, attack):\n",
    "        self.name = name\n",
    "        self.health = health\n",
    "        self.attack_power = attack\n",
    "\n",
    "    def attack(self):\n",
    "        return f\"{self.name} attacks with power {self.attack_power}\"\n",
    "\n",
    "class Warrior(Character):\n",
    "    def __init__(self, name, health, attack, sword_skill):\n",
    "        super().__init__(name, health, attack)\n",
    "        self.sword_skill = sword_skill\n",
    "\n",
    "    def attack(self):\n",
    "        return f\"{self.name} swings sword with skill {self.sword_skill}\"\n",
    "\n",
    "class Mage(Character):\n",
    "    def __init__(self, name, health, attack, magic_power):\n",
    "        super().__init__(name, health, attack)\n",
    "        self.magic_power = magic_power\n",
    "\n",
    "    def attack(self):\n",
    "        return f\"{self.name} casts spell with power {self.magic_power}\"\n",
    "\n",
    "class Archer(Character):\n",
    "    def __init__(self, name, health, attack, bow_skill):\n",
    "        super().__init__(name, health, attack)\n",
    "        self.bow_skill = bow_skill\n",
    "\n",
    "    def attack(self):\n",
    "        return f\"{self.name} fires arrow with skill {self.bow_skill}\"\n",
    "\n"
   ]
  },
  {
   "cell_type": "code",
   "execution_count": 9,
   "id": "9d943497-4c6a-472c-af99-8745ea6b9210",
   "metadata": {},
   "outputs": [
    {
     "name": "stdout",
     "output_type": "stream",
     "text": [
      "Eldon casts spell with power Fireball\n"
     ]
    }
   ],
   "source": [
    "c1 = Mage(\"Eldon\", 100, 20, \"Fireball\")\n",
    "print(c1.attack())"
   ]
  },
  {
   "cell_type": "code",
   "execution_count": 11,
   "id": "fd3d5494-54b1-47f6-81c3-15dd4a24741c",
   "metadata": {},
   "outputs": [],
   "source": [
    "# Assignment 5: Transportation System\n",
    "\n",
    "from abc import ABC, abstractmethod\n",
    "\n",
    "class Transport(ABC):\n",
    "    @abstractmethod\n",
    "    def move(self):\n",
    "        pass\n",
    "\n",
    "class LandTransport(Transport):\n",
    "    def move(self):\n",
    "        print(\"Moving on land\")\n",
    "\n",
    "class WaterTransport(Transport):\n",
    "    def move(self):\n",
    "        print(\"Sailing on water\")\n",
    "\n",
    "class AirTransport(Transport):\n",
    "    def move(self):\n",
    "        print(\"Flying in the air\")\n",
    "\n",
    "class Amphibious(LandTransport, WaterTransport):\n",
    "    def move(self):\n",
    "        print(\"Operating on both land and water\")\n",
    "\n"
   ]
  },
  {
   "cell_type": "code",
   "execution_count": 12,
   "id": "02b10f4b-e22d-49fe-9e29-a5ca28025dd0",
   "metadata": {},
   "outputs": [
    {
     "name": "stdout",
     "output_type": "stream",
     "text": [
      "Operating on both land and water\n"
     ]
    }
   ],
   "source": [
    "\n",
    "t = Amphibious()\n",
    "t.move()"
   ]
  },
  {
   "cell_type": "code",
   "execution_count": null,
   "id": "2039b5c2-2323-405d-b642-ad6702eecd4d",
   "metadata": {},
   "outputs": [],
   "source": []
  }
 ],
 "metadata": {
  "kernelspec": {
   "display_name": "Python [conda env:base] *",
   "language": "python",
   "name": "conda-base-py"
  },
  "language_info": {
   "codemirror_mode": {
    "name": "ipython",
    "version": 3
   },
   "file_extension": ".py",
   "mimetype": "text/x-python",
   "name": "python",
   "nbconvert_exporter": "python",
   "pygments_lexer": "ipython3",
   "version": "3.13.5"
  }
 },
 "nbformat": 4,
 "nbformat_minor": 5
}
