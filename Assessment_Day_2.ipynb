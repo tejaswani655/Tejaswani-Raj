{
 "cells": [
  {
   "cell_type": "code",
   "execution_count": 1,
   "id": "00de25b7",
   "metadata": {},
   "outputs": [],
   "source": [
    "# Assessment_Day_2"
   ]
  },
  {
   "cell_type": "code",
   "execution_count": 2,
   "id": "2cd494d5",
   "metadata": {},
   "outputs": [],
   "source": [
    "# Check odd even\n",
    "\n",
    "def check_even_odd():\n",
    "    num = int(input(\"Enter a number: \"))\n",
    "    if num % 2 == 0:\n",
    "        print(f\"{num} is Even\")\n",
    "    else:\n",
    "        print(f\"{num} is Odd\")\n",
    "\n"
   ]
  },
  {
   "cell_type": "code",
   "execution_count": 3,
   "id": "3d61f16e",
   "metadata": {},
   "outputs": [
    {
     "name": "stdout",
     "output_type": "stream",
     "text": [
      "Enter a number: 3\n",
      "3 is Odd\n"
     ]
    }
   ],
   "source": [
    "check_even_odd()"
   ]
  },
  {
   "cell_type": "code",
   "execution_count": 4,
   "id": "95fe05ba",
   "metadata": {},
   "outputs": [],
   "source": [
    "# create pyramid_pattern\n",
    "\n",
    "def pyramid_pattern():\n",
    "    rows = int(input(\"Enter number of rows for pyramid: \"))\n",
    "    for i in range(1, rows + 1):\n",
    "        print(\" \" * (rows - i) + \"* \" * i)\n"
   ]
  },
  {
   "cell_type": "code",
   "execution_count": 5,
   "id": "3a526350",
   "metadata": {},
   "outputs": [
    {
     "name": "stdout",
     "output_type": "stream",
     "text": [
      "Enter number of rows for pyramid: 5\n",
      "    * \n",
      "   * * \n",
      "  * * * \n",
      " * * * * \n",
      "* * * * * \n"
     ]
    }
   ],
   "source": [
    "pyramid_pattern()"
   ]
  },
  {
   "cell_type": "code",
   "execution_count": 7,
   "id": "b49314ec",
   "metadata": {},
   "outputs": [],
   "source": [
    "# hashtag_generator\n",
    "\n",
    "def hashtag_generator():\n",
    "    name = input(\"Enter startup name: \")\n",
    "    hashtag = \"#\" + name.capitalize()\n",
    "    print(\"Generated Hashtag:\", hashtag)"
   ]
  },
  {
   "cell_type": "code",
   "execution_count": 8,
   "id": "128e9a87",
   "metadata": {},
   "outputs": [
    {
     "name": "stdout",
     "output_type": "stream",
     "text": [
      "Enter startup name: Anuj\n",
      "Generated Hashtag: #Anuj\n"
     ]
    }
   ],
   "source": [
    "hashtag_generator()"
   ]
  },
  {
   "cell_type": "code",
   "execution_count": 9,
   "id": "9a91efad",
   "metadata": {},
   "outputs": [],
   "source": [
    "# factorial_calculator\n",
    "\n",
    "def factorial_calculator():\n",
    "    num = int(input(\"Enter a number: \"))\n",
    "    factorial = 1\n",
    "    for i in range(1, num + 1):\n",
    "        factorial *= i\n",
    "    print(f\"Factorial of {num} is {factorial}\")\n"
   ]
  },
  {
   "cell_type": "code",
   "execution_count": 10,
   "id": "3348c0a2",
   "metadata": {},
   "outputs": [
    {
     "name": "stdout",
     "output_type": "stream",
     "text": [
      "Enter a number: 5\n",
      "Factorial of 5 is 120\n"
     ]
    }
   ],
   "source": [
    "\n",
    "factorial_calculator()"
   ]
  },
  {
   "cell_type": "code",
   "execution_count": 11,
   "id": "90ee4e95",
   "metadata": {},
   "outputs": [],
   "source": [
    "# student_records\n",
    "\n",
    "def student_records(**kwargs):\n",
    "    print(\"Student Records:\")\n",
    "    for key, value in kwargs.items():\n",
    "        print(f\"{key}: {value}\")\n"
   ]
  },
  {
   "cell_type": "code",
   "execution_count": 12,
   "id": "d26be34f",
   "metadata": {},
   "outputs": [
    {
     "name": "stdout",
     "output_type": "stream",
     "text": [
      "Student Records:\n",
      "Name: Anuj\n",
      "Roll: 101\n",
      "Class: 10th\n",
      "Marks: 89\n"
     ]
    }
   ],
   "source": [
    "student_records(Name=\"Anuj\", Roll=101, Class=\"10th\", Marks=89)"
   ]
  },
  {
   "cell_type": "code",
   "execution_count": null,
   "id": "0bb04078",
   "metadata": {},
   "outputs": [],
   "source": []
  }
 ],
 "metadata": {
  "kernelspec": {
   "display_name": "Python 3 (ipykernel)",
   "language": "python",
   "name": "python3"
  },
  "language_info": {
   "codemirror_mode": {
    "name": "ipython",
    "version": 3
   },
   "file_extension": ".py",
   "mimetype": "text/x-python",
   "name": "python",
   "nbconvert_exporter": "python",
   "pygments_lexer": "ipython3",
   "version": "3.9.12"
  }
 },
 "nbformat": 4,
 "nbformat_minor": 5
}
