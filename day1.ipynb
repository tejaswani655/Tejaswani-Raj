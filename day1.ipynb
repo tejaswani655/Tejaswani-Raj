{
 "cells": [
  {
   "cell_type": "code",
   "execution_count": 1,
   "id": "3c702e06",
   "metadata": {},
   "outputs": [
    {
     "name": "stdout",
     "output_type": "stream",
     "text": [
      "344 <class 'int'>\n"
     ]
    }
   ],
   "source": [
    "#int\n",
    "a = 344\n",
    "print(a,type(a))"
   ]
  },
  {
   "cell_type": "code",
   "execution_count": 2,
   "id": "f403a9bb",
   "metadata": {},
   "outputs": [
    {
     "name": "stdout",
     "output_type": "stream",
     "text": [
      "23.54 <class 'float'>\n"
     ]
    }
   ],
   "source": [
    "#float\n",
    "b = 23.54\n",
    "print(b,type(b))"
   ]
  },
  {
   "cell_type": "code",
   "execution_count": 3,
   "id": "6306ac91",
   "metadata": {},
   "outputs": [
    {
     "name": "stdout",
     "output_type": "stream",
     "text": [
      "Defaulting to user installation because normal site-packages is not writeable\n",
      "Requirement already satisfied: qrcode in c:\\users\\ratna\\appdata\\roaming\\python\\python39\\site-packages (7.3.1)\n",
      "Requirement already satisfied: colorama in d:\\new folder\\lib\\site-packages (from qrcode) (0.4.4)\n",
      "Note: you may need to restart the kernel to use updated packages.\n"
     ]
    }
   ],
   "source": [
    "pip install qrcode"
   ]
  },
  {
   "cell_type": "code",
   "execution_count": 4,
   "id": "f5c21948",
   "metadata": {},
   "outputs": [
    {
     "name": "stdout",
     "output_type": "stream",
     "text": [
      "(2, 34, 67) <class 'tuple'>\n"
     ]
    }
   ],
   "source": [
    "#tuple\n",
    "a = (2,34,67)\n",
    "print(a,type(a))"
   ]
  },
  {
   "cell_type": "code",
   "execution_count": 5,
   "id": "0bf72d4b",
   "metadata": {},
   "outputs": [
    {
     "name": "stdout",
     "output_type": "stream",
     "text": [
      "{'Name': 'aman', 'Age': 23, 'Address': 'Maujpur'} <class 'dict'>\n"
     ]
    }
   ],
   "source": [
    "#dict\n",
    "a = {'Name': 'aman','Age':23,'Address':'Maujpur'}\n",
    "print(a,type(a))\n"
   ]
  },
  {
   "cell_type": "code",
   "execution_count": 7,
   "id": "1d91a08e",
   "metadata": {},
   "outputs": [
    {
     "name": "stdout",
     "output_type": "stream",
     "text": [
      "{'Name': 'aman', 'Age': 23, 'Address': 'Maujpur', 'Adderss': 'Delhi'} <class 'dict'>\n"
     ]
    }
   ],
   "source": [
    "a['Adderss'] = 'Delhi'\n",
    "print(a,type(a))"
   ]
  },
  {
   "cell_type": "code",
   "execution_count": 8,
   "id": "205fa1a3",
   "metadata": {},
   "outputs": [
    {
     "name": "stdout",
     "output_type": "stream",
     "text": [
      "{'Region': ['West', 'East', 'North', 'South'], 'Sales': [345, 546, 453, 456], 'Profit': [120, 200, 90, 78]}\n"
     ]
    }
   ],
   "source": [
    "data = {'Region':['West','East','North','South'],\n",
    "        'Sales':[345,546,453,456],\n",
    "        'Profit':[120,200,90,78]}\n",
    "\n",
    "print(data)"
   ]
  },
  {
   "cell_type": "code",
   "execution_count": 11,
   "id": "66dd6244",
   "metadata": {},
   "outputs": [
    {
     "name": "stdout",
     "output_type": "stream",
     "text": [
      "  Region  Sales  Profit\n",
      "0   West    345     120\n",
      "1   East    546     200\n",
      "2  North    453      90\n",
      "3  South    456      78\n"
     ]
    }
   ],
   "source": [
    "import pandas as pd \n",
    "df = pd.DataFrame(data)\n",
    "print(df)"
   ]
  },
  {
   "cell_type": "code",
   "execution_count": 12,
   "id": "d963eb21",
   "metadata": {},
   "outputs": [
    {
     "name": "stdout",
     "output_type": "stream",
     "text": [
      "Manager\n"
     ]
    }
   ],
   "source": [
    "salary = 56789\n",
    "if salary >= 50000:\n",
    "  print('Manager')\n",
    "elif salary >= 30000:\n",
    "  print('Jr Manager')\n",
    "\n",
    "elif salary >= 20000:\n",
    "  print('Executive')\n",
    "else:\n",
    "  print('Intern')\n",
    "\n"
   ]
  },
  {
   "cell_type": "code",
   "execution_count": 17,
   "id": "145dc8a9",
   "metadata": {},
   "outputs": [
    {
     "name": "stdout",
     "output_type": "stream",
     "text": [
      "Defaulting to user installation because normal site-packages is not writeable\n",
      "Requirement already satisfied: pygame in c:\\users\\ratna\\appdata\\roaming\\python\\python39\\site-packages (2.6.1)\n",
      "Note: you may need to restart the kernel to use updated packages.\n"
     ]
    }
   ],
   "source": [
    "pip install pygame \n"
   ]
  },
  {
   "cell_type": "code",
   "execution_count": null,
   "id": "9707346b",
   "metadata": {},
   "outputs": [],
   "source": [
    "pip install gTTS"
   ]
  },
  {
   "cell_type": "code",
   "execution_count": 21,
   "id": "35952766",
   "metadata": {},
   "outputs": [
    {
     "name": "stdout",
     "output_type": "stream",
     "text": [
      "pygame 2.6.1 (SDL 2.28.4, Python 3.9.12)\n",
      "Hello from the pygame community. https://www.pygame.org/contribute.html\n"
     ]
    },
    {
     "data": {
      "text/plain": [
       "<pygame.mixer.Channel at 0x17c4ad86c90>"
      ]
     },
     "execution_count": 21,
     "metadata": {},
     "output_type": "execute_result"
    }
   ],
   "source": []
  },
  {
   "cell_type": "code",
   "execution_count": null,
   "id": "192d0c75",
   "metadata": {},
   "outputs": [],
   "source": []
  }
 ],
 "metadata": {
  "kernelspec": {
   "display_name": "Python 3 (ipykernel)",
   "language": "python",
   "name": "python3"
  },
  "language_info": {
   "codemirror_mode": {
    "name": "ipython",
    "version": 3
   },
   "file_extension": ".py",
   "mimetype": "text/x-python",
   "name": "python",
   "nbconvert_exporter": "python",
   "pygments_lexer": "ipython3",
   "version": "3.9.12"
  }
 },
 "nbformat": 4,
 "nbformat_minor": 5
}
