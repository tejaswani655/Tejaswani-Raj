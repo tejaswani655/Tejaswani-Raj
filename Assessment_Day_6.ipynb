{
 "cells": [
  {
   "cell_type": "code",
   "execution_count": 1,
   "id": "9579d644",
   "metadata": {},
   "outputs": [],
   "source": [
    "# Assessment Day 6"
   ]
  },
  {
   "cell_type": "code",
   "execution_count": 27,
   "id": "8ba0740e",
   "metadata": {},
   "outputs": [],
   "source": [
    "# Assignment_1: Fan Class\n",
    "\n",
    "class Fan:\n",
    "    def _init_(self):\n",
    "        self.__speed = 0\n",
    "        self.__is_on = False\n",
    "\n",
    "    def turn_on(self):\n",
    "        self.__is_on = True\n",
    "        print(\"Fan is turned ON.\")\n",
    "\n",
    "    def turn_off(self):\n",
    "        self.__is_on = False\n",
    "        self.__speed = 0\n",
    "        print(\"Fan is turned OFF.\")\n",
    "\n",
    "    def increase_speed(self):\n",
    "        if self._is_on and self._speed < 5:\n",
    "            self.__speed += 1\n",
    "        print(f\"Speed increased to {self.__speed}\")\n",
    "\n",
    "    def decrease_speed(self):\n",
    "        if self._is_on and self._speed > 0:\n",
    "            self.__speed -= 1\n",
    "        print(f\"Speed decreased to {self.__speed}\")"
   ]
  },
  {
   "cell_type": "code",
   "execution_count": 28,
   "id": "717a7bee",
   "metadata": {},
   "outputs": [],
   "source": [
    "fan = Fan()"
   ]
  },
  {
   "cell_type": "code",
   "execution_count": 29,
   "id": "0e2cd540",
   "metadata": {},
   "outputs": [
    {
     "name": "stdout",
     "output_type": "stream",
     "text": [
      "Fan is turned ON.\n"
     ]
    }
   ],
   "source": [
    "fan.turn_on()"
   ]
  },
  {
   "cell_type": "code",
   "execution_count": 11,
   "id": "83c6b1f2",
   "metadata": {},
   "outputs": [],
   "source": [
    "# Assignment_2: Employee Class\n",
    "\n",
    "class Employee:\n",
    "    def __init__(self, name, salary, department):\n",
    "        self._name = name      # Protected\n",
    "        self._salary = salary\n",
    "        self._department = department\n",
    "    \n",
    "    def get_details(self):\n",
    "        return f\"{self._name}, {self._department}, {self._salary}\"\n",
    "    \n",
    "    def increase_salary(self, percent):\n",
    "        self._salary += self._salary * percent / 100"
   ]
  },
  {
   "cell_type": "code",
   "execution_count": 18,
   "id": "8083e374",
   "metadata": {},
   "outputs": [
    {
     "name": "stdout",
     "output_type": "stream",
     "text": [
      "John, IT, 50000\n"
     ]
    }
   ],
   "source": [
    "emp = Employee(\"John\", 50000, \"IT\")\n",
    "print(emp.get_details())"
   ]
  },
  {
   "cell_type": "code",
   "execution_count": 22,
   "id": "2542315b",
   "metadata": {},
   "outputs": [],
   "source": [
    "# Assignment 3: Bank Account\n",
    "\n",
    "class BankAccount:\n",
    "    def __init__(self, name, account_number, balance):\n",
    "        self.name = name\n",
    "        self.account_number = account_number\n",
    "        self.__balance = balance\n",
    "\n",
    "    def deposit(self, amount):\n",
    "        self.__balance += amount\n",
    "        print(\"Deposited ₹\", amount)\n",
    "\n",
    "    def withdraw(self, amount):\n",
    "        if amount <= self.__balance:\n",
    "            self.__balance -= amount\n",
    "            print(\"Withdrew ₹\", amount)\n",
    "        else:\n",
    "            print(\" Insufficient balance!\")\n",
    "\n",
    "    def check_balance(self):\n",
    "        print(\"Balance: ₹\", self.__balance)\n",
    "\n"
   ]
  },
  {
   "cell_type": "code",
   "execution_count": 23,
   "id": "17e0ba3c",
   "metadata": {},
   "outputs": [
    {
     "name": "stdout",
     "output_type": "stream",
     "text": [
      "Balance: ₹ 1000\n"
     ]
    }
   ],
   "source": [
    "acc = BankAccount(\"Raj\", \"123456\", 1000)\n",
    "acc.check_balance()"
   ]
  },
  {
   "cell_type": "code",
   "execution_count": 24,
   "id": "9d290b71",
   "metadata": {},
   "outputs": [
    {
     "name": "stdout",
     "output_type": "stream",
     "text": [
      "Deposited ₹ 500\n"
     ]
    }
   ],
   "source": [
    "acc.deposit(500)"
   ]
  },
  {
   "cell_type": "code",
   "execution_count": 25,
   "id": "0f8953b9",
   "metadata": {},
   "outputs": [
    {
     "name": "stdout",
     "output_type": "stream",
     "text": [
      "Withdrew ₹ 200\n"
     ]
    }
   ],
   "source": [
    "acc.withdraw(200)\n"
   ]
  },
  {
   "cell_type": "code",
   "execution_count": 26,
   "id": "50ac5ba9",
   "metadata": {},
   "outputs": [
    {
     "name": "stdout",
     "output_type": "stream",
     "text": [
      " Insufficient balance!\n"
     ]
    }
   ],
   "source": [
    "\n",
    "acc.withdraw(2000)\n"
   ]
  },
  {
   "cell_type": "code",
   "execution_count": 27,
   "id": "1ae099a9",
   "metadata": {},
   "outputs": [
    {
     "name": "stdout",
     "output_type": "stream",
     "text": [
      "Balance: ₹ 1300\n"
     ]
    }
   ],
   "source": [
    "acc.check_balance()"
   ]
  },
  {
   "cell_type": "code",
   "execution_count": 30,
   "id": "16ae8494",
   "metadata": {},
   "outputs": [],
   "source": [
    "# Assignment 4: Lib Books\n",
    "\n",
    "class Book:\n",
    "    def __init__(self, title, author, price):\n",
    "        self.title = title\n",
    "        self.author = author\n",
    "        self.price = price\n",
    "        self.__available = True\n",
    "\n",
    "    def borrow_book(self):\n",
    "        if self.__available:\n",
    "            self.__available = False\n",
    "            print(\"Book borrowed.\")\n",
    "        else:\n",
    "            print(\"Book not available.\")\n",
    "\n",
    "    def return_book(self):\n",
    "        self.__available = True\n",
    "        print(\"Book returned.\")\n",
    "\n",
    "    def get_book_info(self):\n",
    "        print(\"Title:\", self.title, \n",
    "              \" Author:\", self.author, \n",
    "              \" Price: ₹\", self.price, \n",
    "              \" Available:\", self.__available)\n"
   ]
  },
  {
   "cell_type": "code",
   "execution_count": 31,
   "id": "712b162e",
   "metadata": {},
   "outputs": [],
   "source": [
    "b1 = Book(\"Python Basics\", \"Anuj\", 399)"
   ]
  },
  {
   "cell_type": "code",
   "execution_count": 32,
   "id": "12380e3c",
   "metadata": {},
   "outputs": [
    {
     "name": "stdout",
     "output_type": "stream",
     "text": [
      "Title: Python Basics  Author: Anuj  Price: ₹ 399  Available: True\n"
     ]
    }
   ],
   "source": [
    "b1.get_book_info()"
   ]
  },
  {
   "cell_type": "code",
   "execution_count": 33,
   "id": "eabf4964",
   "metadata": {},
   "outputs": [
    {
     "name": "stdout",
     "output_type": "stream",
     "text": [
      "Book borrowed.\n"
     ]
    }
   ],
   "source": [
    "b1.borrow_book()"
   ]
  },
  {
   "cell_type": "code",
   "execution_count": 34,
   "id": "a72717f0",
   "metadata": {},
   "outputs": [
    {
     "name": "stdout",
     "output_type": "stream",
     "text": [
      "Book returned.\n"
     ]
    }
   ],
   "source": [
    "b1.return_book()"
   ]
  },
  {
   "cell_type": "code",
   "execution_count": 35,
   "id": "40761e1e",
   "metadata": {},
   "outputs": [
    {
     "name": "stdout",
     "output_type": "stream",
     "text": [
      "Title: Python Basics  Author: Anuj  Price: ₹ 399  Available: True\n"
     ]
    }
   ],
   "source": [
    "\n",
    "b1.get_book_info()"
   ]
  },
  {
   "cell_type": "code",
   "execution_count": null,
   "id": "99eec11f",
   "metadata": {},
   "outputs": [],
   "source": []
  }
 ],
 "metadata": {
  "kernelspec": {
   "display_name": "Python 3 (ipykernel)",
   "language": "python",
   "name": "python3"
  },
  "language_info": {
   "codemirror_mode": {
    "name": "ipython",
    "version": 3
   },
   "file_extension": ".py",
   "mimetype": "text/x-python",
   "name": "python",
   "nbconvert_exporter": "python",
   "pygments_lexer": "ipython3",
   "version": "3.9.12"
  }
 },
 "nbformat": 4,
 "nbformat_minor": 5
}
